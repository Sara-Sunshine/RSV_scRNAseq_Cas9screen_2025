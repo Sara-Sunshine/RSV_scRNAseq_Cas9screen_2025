{
 "cells": [
  {
   "cell_type": "code",
   "execution_count": null,
   "id": "9dd5ef4a",
   "metadata": {},
   "outputs": [],
   "source": [
    "import scanpy as sc\n",
    "import anndata as ann\n",
    "import numpy as np\n",
    "import scipy as sp\n",
    "import pandas as pd\n",
    "import matplotlib.pyplot as plt\n",
    "import glob\n",
    "from matplotlib import rcParams\n",
    "from matplotlib import colors\n",
    "import logging\n",
    "\n",
    "import seaborn as sb\n",
    "\n",
    "sc.settings.verbosity = 3\n",
    "\n",
    "\n",
    "plt.rcParams['figure.figsize']=(8,8) #rescale figures\n",
    "sc.settings.verbosity = 3\n",
    "sc.set_figure_params(dpi=200, dpi_save=300)\n",
    "sc.logging.print_versions()"
   ]
  },
  {
   "cell_type": "code",
   "execution_count": null,
   "id": "256470e3",
   "metadata": {},
   "outputs": [],
   "source": [
    "import warnings\n",
    "warnings.simplefilter(action=\"ignore\", category=FutureWarning)"
   ]
  },
  {
   "cell_type": "code",
   "execution_count": null,
   "id": "f9668737",
   "metadata": {},
   "outputs": [],
   "source": [
    "# Set size for plots\n",
    "sb.set_context(context='paper')"
   ]
  },
  {
   "cell_type": "code",
   "execution_count": null,
   "id": "2559b93e",
   "metadata": {},
   "outputs": [],
   "source": [
    "#set analysis version\n",
    "version = \"V1\"\n",
    "#set output files_path\n",
    "output_files_path = \"/Sunshine_DeRisi_RSV_files/\"\n",
    "\n",
    "fig_path = \"/Sunshine_DeRisi_RSV_files/figures/\""
   ]
  },
  {
   "cell_type": "code",
   "execution_count": null,
   "id": "b31a77bf",
   "metadata": {},
   "outputs": [],
   "source": [
    "sc.settings.figdir = fig_path"
   ]
  },
  {
   "cell_type": "code",
   "execution_count": null,
   "id": "01990027",
   "metadata": {},
   "outputs": [],
   "source": [
    "name = \"2024_RSV_annotated_filtered_human_virus\"###doublets are removed\n",
    "preprocessed_path = output_files_path+version+'_'+name+'.h5ad'\n",
    "adata_human_virus = sc.read_h5ad(preprocessed_path)"
   ]
  },
  {
   "cell_type": "code",
   "execution_count": null,
   "id": "a9849c38",
   "metadata": {},
   "outputs": [],
   "source": [
    "#id for read origin\n",
    "RSV = [name for name in adata_human_virus.var_names if name.startswith('RSV')]\n",
    "RSV_genome = [name for name in adata_human_virus.var_names if name.startswith('genome_RSV')]\n",
    "human_genes = adata_human_virus.var_names.str.startswith('GRCh38_')\n",
    "virus_genes = RSV + RSV_genome"
   ]
  },
  {
   "cell_type": "markdown",
   "id": "53ddb6be",
   "metadata": {},
   "source": [
    "# Subset to 12 hpi"
   ]
  },
  {
   "cell_type": "code",
   "execution_count": null,
   "id": "2196e923",
   "metadata": {},
   "outputs": [],
   "source": [
    "adata_human_virus = adata_human_virus[((adata_human_virus.obs.batch == '0')),:].copy()\n",
    "adata_human_virus"
   ]
  },
  {
   "cell_type": "markdown",
   "id": "630c2416",
   "metadata": {},
   "source": [
    "## for downstream ISG analysis"
   ]
  },
  {
   "cell_type": "code",
   "execution_count": null,
   "id": "a7fa4e22",
   "metadata": {},
   "outputs": [],
   "source": [
    "Hein_isgs = ['PSMB8','PSMB9','PSME1','PSME2','ISG15','ISG20','IRF7','MX1','MX2','GBP1','GBP2','GBP3','IFI6','IFI44','IFI35','IFI16','IFI27','IFIH1','IFI44L','IFIT1','IFIT2','IFIT3','IFIT5','IFITM1','IFITM2','IFITM3','EIF2AK2','OAS1','OAS2','OAS3','CNP','PLSCR1','BST2','BTN3A2','XAF1','CASP1','CASP4','CASP7','GSDMD']\n",
    "isg_gene_list = ['GRCh38_' + gene for gene in Hein_isgs]\n",
    "# determine what genes have at least 5 counts in at least 10 cells across this time point\n",
    "# while this should not change the gene score, subsetting to well expressed genes for gene scoring analysis downstream\n",
    "\n",
    "adata_human_virus_isgsubset = adata_human_virus[:,adata_human_virus.var_names.isin(isg_gene_list)]\n",
    "cell_ids = adata_human_virus_isgsubset.obs.index\n",
    "count_matrix = adata_human_virus_isgsubset.X.toarray()\n",
    "counts_df = pd.DataFrame(count_matrix, index = cell_ids, columns = adata_human_virus_isgsubset.var_names)\n",
    "\n",
    "cells_with_counts = (counts_df >= 5).sum(axis=0)\n",
    "genes_above_10 = cells_with_counts[cells_with_counts > 10]\n",
    "isg_subset = genes_above_10.index.tolist()\n",
    "isg_subset"
   ]
  },
  {
   "cell_type": "markdown",
   "id": "cfa00e8f",
   "metadata": {},
   "source": [
    "adata_human_virus = adata_human_virus[:,~adata_human_virus.var_names.isin(virus_genes)].copy() \n",
    "adata_human_virus"
   ]
  },
  {
   "cell_type": "markdown",
   "id": "58e92c38",
   "metadata": {},
   "source": [
    "# Normalize, log1p,scale"
   ]
  },
  {
   "cell_type": "code",
   "execution_count": null,
   "id": "73da7c8c",
   "metadata": {},
   "outputs": [],
   "source": [
    "sc.pp.normalize_per_cell(adata_human_virus)\n",
    "\n",
    "adata_human_virus.obs['n_counts_norm'] = adata_human_virus.X.sum(1)\n",
    "adata_human_virus.obs['n_counts_norm_log'] = np.log1p(adata_human_virus.obs['n_counts_norm'])\n",
    "\n",
    "#Sum the number of human and viral transcripts per cell POST NORM\n",
    "adata_human_virus.obs ['human_n_counts_norm'] = np.sum(adata_human_virus[:, human_genes].X, axis=1).A1\n",
    "\n",
    "adata_human_virus.obs['viral_transcript_n_counts_norm'] = np.sum(adata_human_virus[:, RSV].X, axis=1).A1\n",
    "\n",
    "#Sum the number of human and virus transcripts per cell and log transform (ln+1)\n",
    "adata_human_virus.obs ['viral_transcript_n_counts_norm_log'] = np.log1p(np.sum(adata_human_virus[:, RSV].X, axis=1).A1)\n",
    "adata_human_virus.obs ['human_n_counts_norm_log'] = np.log1p(np.sum(adata_human_virus[:, human_genes].X, axis=1).A1)"
   ]
  },
  {
   "cell_type": "code",
   "execution_count": null,
   "id": "d3b2bbc0",
   "metadata": {},
   "outputs": [],
   "source": [
    "# filter genes not present within this time point\n",
    "sc.pp.filter_genes(adata_human_virus, min_cells=3)\n",
    "human_genes = adata_human_virus.var_names.str.startswith('GRCh38_')"
   ]
  },
  {
   "cell_type": "code",
   "execution_count": null,
   "id": "ab9e3620",
   "metadata": {},
   "outputs": [],
   "source": [
    "#log, scale, HVG isolate\n",
    "sc.pp.log1p(adata_human_virus)\n",
    "logging.info('Log transforming data')\n",
    "adata_human_virus.raw = adata_human_virus\n",
    "logging.info('Saving log(counts)+1 in .raw')"
   ]
  },
  {
   "cell_type": "code",
   "execution_count": null,
   "id": "2314f8d4",
   "metadata": {},
   "outputs": [],
   "source": [
    "#Identify highly variable genes\n",
    "sc.pp.highly_variable_genes(adata_human_virus, min_mean=0.0125, max_mean=10, min_disp=0.5)\n",
    "print('\\n','Number of highly variable genes: {:d}'.format(np.sum(adata_human_virus.var['highly_variable'])))"
   ]
  },
  {
   "cell_type": "code",
   "execution_count": null,
   "id": "926382ad",
   "metadata": {},
   "outputs": [],
   "source": [
    "sc.pp.scale(adata_human_virus, max_value=10)"
   ]
  },
  {
   "cell_type": "code",
   "execution_count": null,
   "id": "d98c8446",
   "metadata": {},
   "outputs": [],
   "source": [
    "initialization = 1\n",
    "\n",
    "sc.tl.pca(adata_human_virus, n_comps=50, \n",
    "          #use_highly_variable=True, \n",
    "          svd_solver='arpack', \n",
    "          random_state=initialization)\n",
    "sc.pl.pca_overview(adata_human_virus)"
   ]
  },
  {
   "cell_type": "code",
   "execution_count": null,
   "id": "de35182c",
   "metadata": {},
   "outputs": [],
   "source": [
    "sc.pp.neighbors(adata_human_virus, \n",
    "                n_neighbors=15, \n",
    "                n_pcs=21, #30\n",
    "                random_state=initialization)\n",
    "logging.info('KNN complete.')\n",
    "\n",
    "sc.tl.umap(adata_human_virus, random_state=initialization,\n",
    "                min_dist = 0.5, spread = 1)\n",
    "logging.info('UMAP complete.')\n",
    "\n",
    "rcParams['figure.figsize']=(2,2)\n",
    "# sc.tl.umap(adata_human_virus, min_dist=0.5, spread=1)\n",
    "sc.pl.umap(adata_human_virus,color=['GRCh38_ISG15'],\n",
    "                   show=True,cmap='YlGnBu',size=10)"
   ]
  },
  {
   "cell_type": "markdown",
   "id": "06a2082e",
   "metadata": {},
   "source": [
    "## Figure 2A-D - UMAPS"
   ]
  },
  {
   "cell_type": "code",
   "execution_count": null,
   "id": "b6978504",
   "metadata": {},
   "outputs": [],
   "source": [
    "sc.tl.embedding_density(adata_human_virus, basis='umap', groupby='treatment_infectionstatus')\n",
    "rcParams['figure.figsize']=(4,4)\n",
    "sc.pl.embedding_density(adata_human_virus, basis='umap', key='umap_density_treatment_infectionstatus',\n",
    "                        group = ['RSV_infected_infected','RSV_infected_uninfected','Heat_Killed_RSV_uninfected',\n",
    "                                 'Vehicle_Control_uninfected'],\n",
    "                        frameon=False,color_map=\"YlOrRd_r\")\n",
    "#,\n",
    " #                      save='treatement_inf_unf_density.pdf')"
   ]
  },
  {
   "cell_type": "code",
   "execution_count": null,
   "id": "d88abaa1",
   "metadata": {},
   "outputs": [],
   "source": [
    "rcParams['figure.figsize']=(3,3)\n",
    "sc.pl.umap(adata_human_virus,color=['viral_transcript_frac'],\n",
    "                   show=True,cmap='inferno_r',size=20)"
   ]
  },
  {
   "cell_type": "code",
   "execution_count": null,
   "id": "872f4074",
   "metadata": {},
   "outputs": [],
   "source": [
    "fig, ((ax1, ax2, ax3, ax4)) = plt.subplots(1, 4, figsize=(16,3), gridspec_kw={'wspace':0.4})\n",
    "\n",
    "ax1_dict = sc.pl.umap(adata_human_virus, color='GRCh38_HERPUD1',show=False,cmap = 'viridis',\n",
    "                  size=25,frameon=False, title = 'HERPUD1',  ax=ax1)\n",
    "ax2_dict = sc.pl.umap(adata_human_virus, color='GRCh38_DDIT3',show=False,cmap = 'viridis',\n",
    "                  size=25,frameon=False, title = 'DDIT3',  ax=ax2)\n",
    "ax3_dict = sc.pl.umap(adata_human_virus, color='GRCh38_ISG15',show=False,cmap = 'viridis',\n",
    "                  use_raw=True,size=25,frameon=False, color_map=None, vmax=6.5, title = 'ISG15',\n",
    "                      ax=ax3)\n",
    "ax4_dict = sc.pl.umap(adata_human_virus, color='GRCh38_IFIT1',show=False,cmap = 'viridis',\n",
    "                  use_raw=True,size=25,frameon=False, color_map=None, vmax=6.5, title = 'IFIT1',  ax=ax4)\n",
    "\n",
    "\n",
    "plt.rcParams['font.family'] = 'sans-serif'\n",
    "plt.rcParams['font.sans-serif'] = 'Arial'\n",
    "plt.rcParams['font.size'] = 12.0\n",
    "plt.rcParams['legend.fontsize'] = 12.0\n",
    "\n",
    "#plt.savefig(fig_path+'umap_transcriptional_herpud1_ddit3_isg15_ifit1.pdf')"
   ]
  },
  {
   "cell_type": "markdown",
   "id": "97832677",
   "metadata": {},
   "source": [
    "## Figure 2E - dot plot"
   ]
  },
  {
   "cell_type": "code",
   "execution_count": null,
   "id": "f2514c9d",
   "metadata": {},
   "outputs": [],
   "source": [
    "adata_human_virus.layers[\"scaled\"] = sc.pp.scale(adata_human_virus, copy=True).X"
   ]
  },
  {
   "cell_type": "code",
   "execution_count": null,
   "id": "33c2fd0e",
   "metadata": {},
   "outputs": [],
   "source": [
    "marker_genes = ['GRCh38_PLAU',\n",
    "'GRCh38_PLAUR',\n",
    "'GRCh38_DDIT3',\n",
    "'GRCh38_HERPUD1',\n",
    "'GRCh38_DNAJB9',\n",
    "'GRCh38_XBP1',\n",
    "'GRCh38_BAG3',\n",
    "'GRCh38_HSPA1A',\n",
    "'GRCh38_HSPA1B',\n",
    "'GRCh38_PLEK2',\n",
    "'GRCh38_RHOF',\n",
    "'GRCh38_IFRD1',\n",
    "'GRCh38_ISG20',\n",
    "'GRCh38_ISG15',\n",
    "'GRCh38_IFI6',\n",
    "'GRCh38_IFIT1',\n",
    "'GRCh38_OAS1',\n",
    "'GRCh38_IRF7',\n",
    "'GRCh38_MX1',\n",
    "'GRCh38_IFIT3',\n",
    "'GRCh38_OAS3',\n",
    "'GRCh38_PLSCR1']"
   ]
  },
  {
   "cell_type": "code",
   "execution_count": null,
   "id": "75bb8133",
   "metadata": {},
   "outputs": [],
   "source": [
    "adata_human_virus.obs.treatment_infectionstatus.unique()"
   ]
  },
  {
   "cell_type": "markdown",
   "id": "2ced16d1",
   "metadata": {},
   "source": [
    "NOTE : So few cells in buffer - it doesn't make sense to include in plots. likely infected cells actually but n is just too low here"
   ]
  },
  {
   "cell_type": "code",
   "execution_count": null,
   "id": "2e33539d",
   "metadata": {},
   "outputs": [],
   "source": [
    "adata_human_virus_subset = adata_human_virus[((adata_human_virus.obs.treatment_infectionstatus != 'RSV_infected_buffer')),:].copy()\n",
    "adata_human_virus_subset"
   ]
  },
  {
   "cell_type": "code",
   "execution_count": null,
   "id": "608624fa",
   "metadata": {},
   "outputs": [],
   "source": [
    "#note reordered plot below in affinity for to group by gene function"
   ]
  },
  {
   "cell_type": "code",
   "execution_count": null,
   "id": "c23e683a",
   "metadata": {},
   "outputs": [],
   "source": [
    "sc.pl.dotplot(adata_human_virus_subset, marker_genes, groupby = \"treatment_infectionstatus\",\n",
    "                   cmap='inferno_r',\n",
    "              categories_order=['RSV_infected_infected','RSV_infected_uninfected',\n",
    "                    'Heat_Killed_RSV_uninfected','Vehicle_Control_uninfected',\n",
    "                               ],\n",
    "                            #save='treatement_inf_status_dotplot.pdf'\n",
    "                  )"
   ]
  },
  {
   "cell_type": "code",
   "execution_count": null,
   "id": "52094009",
   "metadata": {
    "scrolled": true
   },
   "outputs": [],
   "source": [
    "rcParams['figure.figsize']=(3,3)\n",
    "#ISG SCORE\n",
    "#re-score ISG stimulation\n",
    "sc.tl.score_genes(adata_human_virus_subset,isg_subset, score_name='isg_subset')"
   ]
  },
  {
   "cell_type": "code",
   "execution_count": null,
   "id": "fdb1bfb4",
   "metadata": {},
   "outputs": [],
   "source": [
    "plt.rcParams['figure.figsize']=(4,4) #rescale figures\n",
    "sb.boxplot(x=adata_human_virus_subset.obs.treatment_infectionstatus, \n",
    "           y=adata_human_virus_subset.obs.isg_subset,fliersize =0,\n",
    "          color=\"gray\")\n",
    "sb.swarmplot(x=adata_human_virus_subset.obs.treatment_infectionstatus, \n",
    "             y=adata_human_virus_subset.obs.isg_subset,color=\".4\",size=0.4)\n",
    "plt.xticks(rotation=90)\n",
    "sb.despine()\n",
    "plt.title('ISG Score')"
   ]
  }
 ],
 "metadata": {
  "kernelspec": {
   "display_name": "de_scanpy_mast",
   "language": "python",
   "name": "de_scanpy_mast"
  },
  "language_info": {
   "codemirror_mode": {
    "name": "ipython",
    "version": 3
   },
   "file_extension": ".py",
   "mimetype": "text/x-python",
   "name": "python",
   "nbconvert_exporter": "python",
   "pygments_lexer": "ipython3",
   "version": "3.9.15"
  },
  "toc": {
   "base_numbering": 1,
   "nav_menu": {},
   "number_sections": true,
   "sideBar": true,
   "skip_h1_title": false,
   "title_cell": "Table of Contents",
   "title_sidebar": "Contents",
   "toc_cell": false,
   "toc_position": {},
   "toc_section_display": true,
   "toc_window_display": true
  }
 },
 "nbformat": 4,
 "nbformat_minor": 5
}
