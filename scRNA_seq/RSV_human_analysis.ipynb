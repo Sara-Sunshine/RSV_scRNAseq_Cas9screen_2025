{
 "cells": [
  {
   "cell_type": "code",
   "execution_count": null,
   "metadata": {
    "scrolled": true
   },
   "outputs": [],
   "source": [
    "import scanpy as sc\n",
    "import anndata as ann\n",
    "import numpy as np\n",
    "import scipy as sp\n",
    "import pandas as pd\n",
    "import matplotlib.pyplot as plt\n",
    "import glob\n",
    "from matplotlib import rcParams\n",
    "from matplotlib import colors\n",
    "\n",
    "import seaborn as sb\n",
    "\n",
    "sc.settings.verbosity = 3\n",
    "\n",
    "\n",
    "plt.rcParams['figure.figsize']=(8,8) #rescale figures\n",
    "sc.settings.verbosity = 3\n",
    "sc.set_figure_params(dpi=200, dpi_save=300, \n",
    "                     vector_friendly=False,\n",
    "                    format='pdf')\n",
    "sc.logging.print_versions()"
   ]
  },
  {
   "cell_type": "code",
   "execution_count": null,
   "metadata": {},
   "outputs": [],
   "source": [
    "import warnings\n",
    "warnings.simplefilter(action=\"ignore\", category=FutureWarning)"
   ]
  },
  {
   "cell_type": "code",
   "execution_count": null,
   "metadata": {},
   "outputs": [],
   "source": [
    "# Set size for plots\n",
    "sb.set_context(context='paper')"
   ]
  },
  {
   "cell_type": "code",
   "execution_count": null,
   "metadata": {},
   "outputs": [],
   "source": [
    "#set analysis version\n",
    "version = \"V1\"\n",
    "#set output files_path\n",
    "output_files_path = \"/Sunshine_DeRisi_RSV_files/\"\n",
    "\n",
    "fig_path = \"/Sunshine_DeRisi_RSV_files/figures/\""
   ]
  },
  {
   "cell_type": "code",
   "execution_count": null,
   "metadata": {},
   "outputs": [],
   "source": [
    "sc.settings.figdir = fig_path"
   ]
  },
  {
   "cell_type": "code",
   "execution_count": null,
   "metadata": {},
   "outputs": [],
   "source": [
    "name = \"2024_RSV_annotated_unfiltered_human_virus\"##+version\n",
    "preprocessed_path = output_files_path+version+'_'+name+'.h5ad'\n",
    "\n",
    "adata_human_virus = sc.read_h5ad(preprocessed_path)"
   ]
  },
  {
   "cell_type": "code",
   "execution_count": null,
   "metadata": {},
   "outputs": [],
   "source": [
    "adata_human_virus #note multiseq doublets have been removed"
   ]
  },
  {
   "cell_type": "code",
   "execution_count": null,
   "metadata": {},
   "outputs": [],
   "source": [
    "#Recalculate n_counts, log_counts, n_genes for each cell and add to .obs\n",
    "adata_human_virus.obs['n_counts'] = adata_human_virus.X.sum(1)\n",
    "adata_human_virus.obs['log_counts'] = np.log(adata_human_virus.obs['n_counts'])\n",
    "adata_human_virus.obs['n_genes'] = (adata_human_virus.X > 0).sum(1)\n",
    "#check to make sure new observations are there\n",
    "adata_human_virus"
   ]
  },
  {
   "cell_type": "code",
   "execution_count": null,
   "metadata": {},
   "outputs": [],
   "source": [
    "#Filter out based on multiseq calls [nothing should be filtered for doublets]\n",
    "adata_human_virus = adata_human_virus[adata_human_virus.obs['multiseq_id'] != \"Negative\"]\n",
    "print('Number of cells after multiseq negative cell filter: {:d}'.format(adata_human_virus.n_obs))\n",
    "adata_human_virus = adata_human_virus[adata_human_virus.obs['multiseq_id'] != \"Doublet\"]\n",
    "print('Number of cells after multiseq doublets cell filter: {:d}'.format(adata_human_virus.n_obs))"
   ]
  },
  {
   "cell_type": "code",
   "execution_count": null,
   "metadata": {},
   "outputs": [],
   "source": [
    "rcParams['figure.figsize']=(30,5)\n",
    "fig_ind=np.arange(141, 144)\n",
    "fig = plt.figure()\n",
    "fig.subplots_adjust(hspace=0.4, wspace=0.6)\n",
    "\n",
    "p3_adata_human_virus = sb.histplot(adata_human_virus.obs['n_counts'], \n",
    "                 kde=False, #kde=false means not normalized\n",
    "                 ax=fig.add_subplot(fig_ind[0]))\n",
    "p4_adata_human_virus = sb.histplot(adata_human_virus.obs['n_counts'][adata_human_virus.obs['n_counts']<6000], \n",
    "                 kde=False, bins=60, \n",
    "                 ax=fig.add_subplot(fig_ind[1]))\n",
    "p5_adata_human_virus = sb.histplot(adata_human_virus.obs['n_counts'][adata_human_virus.obs['n_counts']>10000], \n",
    "                 kde=False, bins=60, \n",
    "                 ax=fig.add_subplot(fig_ind[2]))\n",
    "plt.show()"
   ]
  },
  {
   "cell_type": "code",
   "execution_count": null,
   "metadata": {},
   "outputs": [],
   "source": [
    "#Thresholding decision: genes\n",
    "rcParams['figure.figsize']=(20,5)\n",
    "fig_ind=np.arange(131, 133)\n",
    "fig = plt.figure()\n",
    "fig.subplots_adjust(hspace=0.4, wspace=0.6) #create a grid for subplots\n",
    "\n",
    "p6_adata_human_virus = sb.histplot(adata_human_virus.obs['n_genes'], kde=False, bins=60, ax=fig.add_subplot(fig_ind[0]))\n",
    "\n",
    "\n",
    "p7_adata_human_virus = sb.histplot(adata_human_virus.obs['n_genes'][adata_human_virus.obs['n_genes']<2500], \n",
    "                 kde=False, bins=60, ax=fig.add_subplot(fig_ind[1])) \n",
    "\n",
    "plt.show()"
   ]
  },
  {
   "cell_type": "code",
   "execution_count": null,
   "metadata": {},
   "outputs": [],
   "source": [
    "# Calculate summary statistics\n",
    "    #first extract n_count and n_genes for each cell\n",
    "#n_count for each cell\n",
    "human_n_counts_only = adata_human_virus.obs ['human_n_counts']\n",
    "human_n_counts_only.describe()\n",
    "human_n_counts_only_mean = np.mean(human_n_counts_only)\n",
    "print(human_n_counts_only_mean)\n",
    "human_n_counts_only_median = np.median(human_n_counts_only)\n",
    "print(human_n_counts_only_median)\n",
    "human_n_counts_only_range = np.ptp(human_n_counts_only)\n",
    "print(human_n_counts_only_range)\n",
    "human_n_counts_only_standard_deviation = np.std(human_n_counts_only) #sq root of variance\n",
    "print(human_n_counts_only_standard_deviation)"
   ]
  },
  {
   "cell_type": "code",
   "execution_count": null,
   "metadata": {},
   "outputs": [],
   "source": [
    "# Calculate summary statistics\n",
    "    #first extract n_count and n_genes for each cell\n",
    "#n_count for each cell\n",
    "n_genes_only = adata_human_virus.obs ['n_genes']\n",
    "n_genes_only.describe()\n",
    "n_genes_only_mean = np.mean(n_genes_only)\n",
    "print(n_genes_only_mean)\n",
    "n_genes_only_median = np.median(n_genes_only)\n",
    "print(n_genes_only_median)\n",
    "n_genes_only_range = np.ptp(n_genes_only)\n",
    "print(n_genes_only_range)\n",
    "n_genes_only_standard_deviation = np.std(n_genes_only) #sq root of variance\n",
    "print(n_genes_only_standard_deviation)"
   ]
  },
  {
   "cell_type": "code",
   "execution_count": null,
   "metadata": {},
   "outputs": [],
   "source": [
    "# Now calculate uppper and lower limit for n_counts and n_genes \n",
    "\n",
    "print (n_genes_only_mean) \n",
    "n_genes_only_1SD_upper = n_genes_only_mean + n_genes_only_standard_deviation\n",
    "print(n_genes_only_1SD_upper)\n",
    "n_genes_only_1SD_lower = n_genes_only_mean - n_genes_only_standard_deviation\n",
    "print(n_genes_only_1SD_lower)\n",
    "n_genes_only_2SD_upper = n_genes_only_mean + (2*n_genes_only_standard_deviation)\n",
    "print (n_genes_only_2SD_upper)\n",
    "n_genes_only_2SD_lower = n_genes_only_mean - (2*n_genes_only_standard_deviation)\n",
    "print (n_genes_only_2SD_lower)\n",
    "n_genes_only_3SD_upper = n_genes_only_mean + (3*n_genes_only_standard_deviation)\n",
    "print (n_genes_only_3SD_upper)\n",
    "n_genes_only_3SD_lower = n_genes_only_mean - (3*n_genes_only_standard_deviation)\n",
    "print (n_genes_only_3SD_lower)"
   ]
  },
  {
   "cell_type": "code",
   "execution_count": null,
   "metadata": {},
   "outputs": [],
   "source": [
    "# Now calculate uppper and lower limit for human_n_counts \n",
    "human_n_counts_only_1SD_upper = human_n_counts_only_mean + human_n_counts_only_standard_deviation\n",
    "print(human_n_counts_only_1SD_upper)\n",
    "human_n_counts_only_1SD_lower = human_n_counts_only_mean - human_n_counts_only_standard_deviation\n",
    "print(human_n_counts_only_1SD_lower)\n",
    "human_n_counts_only_2SD_upper = human_n_counts_only_mean + (2*human_n_counts_only_standard_deviation)\n",
    "print (human_n_counts_only_2SD_upper)\n",
    "human_n_counts_only_2SD_lower = human_n_counts_only_mean - (2*human_n_counts_only_standard_deviation)\n",
    "print (human_n_counts_only_2SD_lower)\n",
    "human_n_counts_only_3SD_upper = human_n_counts_only_mean + (3*human_n_counts_only_standard_deviation)\n",
    "print (human_n_counts_only_3SD_upper)\n",
    "human_n_counts_only_3SD_lower = human_n_counts_only_mean - (3*human_n_counts_only_standard_deviation)\n",
    "print (human_n_counts_only_3SD_lower)"
   ]
  },
  {
   "cell_type": "code",
   "execution_count": null,
   "metadata": {},
   "outputs": [],
   "source": [
    "#Thresholding decision: genes\n",
    "rcParams['figure.figsize']=(20,5)\n",
    "fig_ind=np.arange(131, 133)\n",
    "fig = plt.figure()\n",
    "fig.subplots_adjust(hspace=0.4, wspace=0.6) #create a grid for subplots\n",
    "\n",
    "p6_adata_human_virus = sb.histplot(adata_human_virus.obs['n_genes'], kde=False, bins=60, ax=fig.add_subplot(fig_ind[0]))\n",
    "\n",
    "plt.axvline(n_genes_only_3SD_upper, color='g')\n",
    "plt.axvline(n_genes_only_3SD_lower, color='g')\n",
    "plt.axvline(n_genes_only_2SD_upper, color='b')\n",
    "plt.axvline(n_genes_only_2SD_lower, color='b')\n",
    "plt.axvline(n_genes_only_1SD_upper, color='r')\n",
    "plt.axvline(n_genes_only_1SD_lower, color='r')\n",
    "\n",
    "p7_adata_human_virus = sb.histplot(adata_human_virus.obs['n_genes'][adata_human_virus.obs['n_genes']<2500], \n",
    "                 kde=False, bins=60, ax=fig.add_subplot(fig_ind[1])) \n",
    "plt.axvline(n_genes_only_3SD_lower, color='g')\n",
    "plt.axvline(n_genes_only_2SD_lower, color='b')\n",
    "plt.axvline(n_genes_only_1SD_lower, color='r')\n",
    "plt.show()"
   ]
  },
  {
   "cell_type": "code",
   "execution_count": null,
   "metadata": {},
   "outputs": [],
   "source": [
    "#this is for HUMAN ONLY\n",
    "rcParams['figure.figsize']=(20,5)\n",
    "fig_ind=np.arange(131, 134)\n",
    "fig = plt.figure()\n",
    "fig.subplots_adjust(hspace=0.4, wspace=0.6)\n",
    "\n",
    "p3_adata_human_virus = sb.histplot(adata_human_virus.obs['human_n_counts'], \n",
    "                 kde=False, #kde=false means not normalized\n",
    "                 ax=fig.add_subplot(fig_ind[0]))\n",
    "plt.axvline(human_n_counts_only_2SD_upper, color='b')\n",
    "plt.axvline(human_n_counts_only_2SD_lower, color='b')\n",
    "plt.axvline(human_n_counts_only_1SD_upper, color='r')\n",
    "plt.axvline(human_n_counts_only_1SD_lower, color='r')\n",
    "\n",
    "p4_adata_human_virus = sb.histplot(adata_human_virus.obs['human_n_counts'][adata_human_virus.obs['human_n_counts']<6000], \n",
    "                 kde=False, bins=60, \n",
    "                 ax=fig.add_subplot(fig_ind[1]))\n",
    "plt.axvline(human_n_counts_only_2SD_lower, color='b')\n",
    "plt.axvline(human_n_counts_only_1SD_lower, color='r')\n",
    "\n",
    "p5_adata_human_virus = sb.histplot(adata_human_virus.obs['human_n_counts'][adata_human_virus.obs['human_n_counts']>10000], \n",
    "                 kde=False, bins=60, \n",
    "                 ax=fig.add_subplot(fig_ind[2]))\n",
    "plt.axvline(human_n_counts_only_2SD_upper, color='b')\n",
    "plt.axvline(human_n_counts_only_1SD_upper, color='r')\n",
    "\n",
    "plt.show()"
   ]
  },
  {
   "cell_type": "code",
   "execution_count": null,
   "metadata": {},
   "outputs": [],
   "source": [
    "print(n_genes_only_2SD_lower)\n",
    "print(human_n_counts_only_2SD_lower)"
   ]
  },
  {
   "cell_type": "code",
   "execution_count": null,
   "metadata": {},
   "outputs": [],
   "source": [
    "# Filter cells according to identified QC thresholds:\n",
    "print('Total number of cells: {:d}'.format(adata_human_virus.n_obs))\n",
    "\n",
    "sc.pp.filter_genes(adata_human_virus, min_cells=3)\n",
    "print('Number of genes after min cell filter: {:d}'.format(adata_human_virus.n_obs))\n",
    "\n",
    "sc.pp.filter_cells(adata_human_virus, min_counts = human_n_counts_only_2SD_lower)\n",
    "print('Number of cells after min count filter: {:d}'.format(adata_human_virus.n_obs))\n",
    "\n",
    "sc.pp.filter_cells(adata_human_virus, min_genes = n_genes_only_2SD_lower)\n",
    "print('Number of cells after gene filter: {:d}'.format(adata_human_virus.n_obs))"
   ]
  },
  {
   "cell_type": "code",
   "execution_count": null,
   "metadata": {},
   "outputs": [],
   "source": [
    "# Re-calculate n_counts, log_counts, n_genes since genes were filtered\n",
    "adata_human_virus.obs['n_counts'] = adata_human_virus.X.sum(1)\n",
    "adata_human_virus.obs['log_counts'] = np.log(adata_human_virus.obs['n_counts']) #natural log\n",
    "adata_human_virus.obs['n_genes'] = (adata_human_virus.X > 0).sum(1)"
   ]
  },
  {
   "cell_type": "code",
   "execution_count": null,
   "metadata": {},
   "outputs": [],
   "source": [
    "adata_human_virus.obs['n_counts'].describe()"
   ]
  },
  {
   "cell_type": "markdown",
   "metadata": {},
   "source": [
    "# Assess basic characteristics of viral reads per treatment"
   ]
  },
  {
   "cell_type": "code",
   "execution_count": null,
   "metadata": {
    "scrolled": true
   },
   "outputs": [],
   "source": [
    "adata_human_virus"
   ]
  },
  {
   "cell_type": "code",
   "execution_count": null,
   "metadata": {},
   "outputs": [],
   "source": [
    "human_virus_plot_df = pd.DataFrame(adata_human_virus.obs[['viral_transcript_frac','batch','treatment','viral_transcript_log_counts','viral_transcript_n_counts','new_multiseq_id']])"
   ]
  },
  {
   "cell_type": "code",
   "execution_count": null,
   "metadata": {
    "scrolled": false
   },
   "outputs": [],
   "source": [
    "rcParams['figure.figsize']=(3,3)\n",
    "\n",
    "batch_order = ['3','2','1','0']\n",
    "treatment_order = ['Vehicle_Control','Heat_Killed_RSV','RSV_infected']\n",
    "ax = sb.stripplot(x='batch',y='viral_transcript_frac', data=human_virus_plot_df,\n",
    "              order=batch_order,\n",
    "              hue='treatment',\n",
    "             hue_order=treatment_order,\n",
    "            dodge=True,\n",
    "            size=1,\n",
    "                 palette=['black','gray','firebrick'])\n",
    "\n",
    "ax.set_xlabel('Time Point (hours)')\n",
    "ax.set_ylabel('Viral Read Fraction per Cell')\n",
    "ax.set_xticklabels(['0','4','8','12'])\n",
    "ax.grid(False)\n",
    "sb.despine(right=True)\n",
    "\n",
    "plt.rcParams['font.family'] = 'sans-serif'\n",
    "plt.rcParams['font.sans-serif'] = 'Arial'\n",
    "plt.rcParams['font.size'] = 12.0\n",
    "plt.rcParams['legend.fontsize'] = 12.0\n",
    "legend = plt.legend(bbox_to_anchor=(1.6,0.8), loc='right', borderaxespad=0)\n",
    "plt.gca().get_legend().set_frame_on(False)\n",
    "for text in legend.get_texts():\n",
    "    text.set_fontsize(8)"
   ]
  },
  {
   "cell_type": "markdown",
   "metadata": {},
   "source": [
    "## Figure S1B"
   ]
  },
  {
   "cell_type": "code",
   "execution_count": null,
   "metadata": {},
   "outputs": [],
   "source": [
    "rcParams['figure.figsize']=(5,5)\n",
    "sc.pl.violin(adata_human_virus,keys='viral_transcript_frac', \n",
    "             groupby = 'new_multiseq_id', xlabel='Treatment',\n",
    "             ylabel='Viral Fraction per Cell', size=1, rotation=90,\n",
    "            order=['0hr_VC','4hr_VC','8hr_VC','12hr_VC',\n",
    "                  '0hr_HK','4hr_HK','8hr_HK','12hr_HK',\n",
    "                  '0hr_RSV','4hr_RSV','8hr_RSV','12hr_RSV'],\n",
    "             palette='Blues',\n",
    "             save = 'violin_viralfracpercell_bytreatment.pdf')"
   ]
  },
  {
   "cell_type": "markdown",
   "metadata": {},
   "source": [
    "## Evaluate dynamic range of raw viral transcipts per cell"
   ]
  },
  {
   "cell_type": "code",
   "execution_count": null,
   "metadata": {},
   "outputs": [],
   "source": [
    "sorted_df = human_virus_plot_df.sort_values(['new_multiseq_id','viral_transcript_n_counts'])\n",
    "sorted_df['index_num'] = range(len(sorted_df))\n",
    "grouped = sorted_df.groupby('new_multiseq_id')\n",
    "new_column_values = []\n",
    "\n",
    "from collections import Counter\n",
    "cnt = Counter()\n",
    "\n",
    "for _, group in grouped:\n",
    "    group_size=len(group)\n",
    "    sorted_group = group.sort_values('viral_transcript_n_counts')\n",
    "    numbers = list(range(1, group_size+1))\n",
    "    new_column_values.extend(numbers)\n",
    "    cnt[group_size] += 1\n",
    "    #counter +=group_size\n",
    "\n",
    "sorted_df['cell_num'] = new_column_values"
   ]
  },
  {
   "cell_type": "code",
   "execution_count": null,
   "metadata": {
    "scrolled": false
   },
   "outputs": [],
   "source": [
    "treatment_order = ['Vehicle_Control','Heat_Killed_RSV','RSV_infected']\n",
    "hue_colors = {'0': 'firebrick', \n",
    "              '1': 'darkorange', \n",
    "              '2': 'wheat',\n",
    "             '3': 'gray'}\n",
    "\n",
    "\n",
    "ax = sb.relplot(data=sorted_df, x=\"index_num\", y=\"viral_transcript_n_counts\",\n",
    "           hue=\"batch\",\n",
    "           col=\"treatment\",\n",
    "           kind=\"line\",\n",
    "           col_order=treatment_order,\n",
    "               palette=hue_colors,\n",
    "               aspect=1,\n",
    "               linewidth=5)\n",
    "\n",
    "#ax.grid(False)\n",
    "sb.despine(right=True)\n",
    "\n",
    "plt.rcParams['font.family'] = 'sans-serif'\n",
    "plt.rcParams['font.sans-serif'] = 'Arial'\n",
    "plt.rcParams['font.size'] = 12.0\n",
    "plt.rcParams['legend.fontsize'] = 12.0\n",
    "legend = plt.legend(bbox_to_anchor=(1.6,0.8), loc='right', borderaxespad=0)\n"
   ]
  },
  {
   "cell_type": "code",
   "execution_count": null,
   "metadata": {},
   "outputs": [],
   "source": [
    "sorted_df_hk = sorted_df[sorted_df['treatment'] == \"Heat_Killed_RSV\"]\n",
    "sorted_df_vc = sorted_df[sorted_df['treatment'] == \"Vehicle_Control\"]\n",
    "sorted_df_inf = sorted_df[sorted_df['treatment'] == \"RSV_infected\"]"
   ]
  },
  {
   "cell_type": "code",
   "execution_count": null,
   "metadata": {},
   "outputs": [],
   "source": [
    "#this is for HUMAN ONLY\n",
    "rcParams['figure.figsize']=(20,4)\n",
    "fig = plt.figure()\n",
    "#axs = plt.subplots(1, 4, sharex=True, sharey=True)\n",
    "fig.subplots_adjust(hspace=0.4, wspace=0.4)\n",
    "\n",
    "for i, timepoint in enumerate(['3','2','1','0']):\n",
    "    ax = plt.subplot(1,4,i+1)\n",
    "    _ = sb.lineplot(data = sorted_df_inf[sorted_df_inf['batch'] == timepoint],\n",
    "                    x=\"cell_num\", y=\"viral_transcript_n_counts\",\n",
    "                    ax = ax,\n",
    "                   linewidth=5,\n",
    "                   #color='red',\n",
    "                   linestyle='-',\n",
    "                    color='darkred',alpha=0.5)\n",
    "    ax.set_ylim(-100, 26000)\n",
    "    ax.set(xticklabels=[],xlabel=None)\n",
    "    ax.tick_params(bottom=False)\n",
    "    sb.despine(right=True, bottom=True, left = True)\n",
    "\n",
    "#plt.savefig('/lineplot_infected_alltp_viral_transcripts_percell.pdf')"
   ]
  },
  {
   "cell_type": "code",
   "execution_count": null,
   "metadata": {},
   "outputs": [],
   "source": [
    "#this is for HUMAN ONLY\n",
    "rcParams['figure.figsize']=(20,4)\n",
    "fig = plt.figure()\n",
    "#axs = plt.subplots(1, 4, sharex=True, sharey=True)\n",
    "fig.subplots_adjust(hspace=0.4, wspace=0.4)\n",
    "\n",
    "for i, timepoint in enumerate(['3','2','1','0']):\n",
    "    ax = plt.subplot(1,4,i+1)\n",
    "    _ = sb.lineplot(data = sorted_df_hk[sorted_df_hk['batch'] == timepoint],\n",
    "                    x=\"cell_num\", y=\"viral_transcript_n_counts\",\n",
    "                    ax = ax,\n",
    "                   linewidth=5,\n",
    "                   #color='red',\n",
    "                    color='darkorange',alpha=1,\n",
    "                    linestyle='--')\n",
    "    ax.set_ylim(-100, 26000)\n",
    "    ax.set(xticklabels=[],xlabel=None)\n",
    "    ax.tick_params(bottom=False)\n",
    "    sb.despine(right=True, bottom=True, left = True)\n",
    "\n",
    "#plt.savefig('/lineplot_heatkilled_alltp_viral_transcripts_percell.pdf')"
   ]
  },
  {
   "cell_type": "code",
   "execution_count": null,
   "metadata": {},
   "outputs": [],
   "source": [
    "#this is for HUMAN ONLY\n",
    "rcParams['figure.figsize']=(20,4)\n",
    "fig = plt.figure()\n",
    "#axs = plt.subplots(1, 4, sharex=True, sharey=True)\n",
    "fig.subplots_adjust(hspace=0.4, wspace=0.4)\n",
    "\n",
    "for i, timepoint in enumerate(['3','2','1','0']):\n",
    "    ax = plt.subplot(1,4,i+1)\n",
    "    _ = sb.lineplot(data = sorted_df_vc[sorted_df_vc['batch'] == timepoint],\n",
    "                    x=\"cell_num\", y=\"viral_transcript_n_counts\",\n",
    "                    ax = ax,\n",
    "                   linewidth=5,\n",
    "                    color='blue',alpha=1,\n",
    "                    linestyle='--')\n",
    "    ax.set_ylim(-100, 26000)\n",
    "    ax.set(xticklabels=[],xlabel=None)\n",
    "    ax.tick_params(bottom=False)\n",
    "    sb.despine(right=True, bottom=True, left = True)\n",
    "    \n",
    "#plt.savefig('/lineplot_vehiclecontrol_alltp_viral_transcripts_percell.pdf')"
   ]
  },
  {
   "cell_type": "markdown",
   "metadata": {},
   "source": [
    "# Investigate distribution of counts"
   ]
  },
  {
   "cell_type": "code",
   "execution_count": null,
   "metadata": {},
   "outputs": [],
   "source": [
    "# Annotate cells by percent viral transcripts \n",
    "col = 'viral_transcript_frac'\n",
    "conditions = [adata_human_virus.obs[col] >= 0.3, \n",
    "              (adata_human_virus.obs[col] < 0.3) & (adata_human_virus.obs[col]>= 0.2),\n",
    "              (adata_human_virus.obs[col] < 0.2) & (adata_human_virus.obs[col]>= 0.1),\n",
    "              (adata_human_virus.obs[col] < 0.1) & (adata_human_virus.obs[col]>= 0.01),\n",
    "              adata_human_virus.obs[col] < 0.01]\n",
    "infection_fraction = [\">30%virus\", \"20=<x<30%virus\", \"10=<x<20%virus\",\n",
    "                     \"1=<x<10%virus\",\"<1%virus\"]\n",
    "adata_human_virus.obs['infection_frac'] = np.select(conditions, infection_fraction, default=np.nan)\n",
    "adata_human_virus.obs['infection_frac'].value_counts()"
   ]
  },
  {
   "cell_type": "code",
   "execution_count": null,
   "metadata": {},
   "outputs": [],
   "source": [
    "adata_human_virus_df = pd.DataFrame(adata_human_virus.obs)"
   ]
  },
  {
   "cell_type": "markdown",
   "metadata": {},
   "source": [
    "## Figure S1 C & D"
   ]
  },
  {
   "cell_type": "code",
   "execution_count": null,
   "metadata": {},
   "outputs": [],
   "source": [
    "rcParams['figure.figsize']=(3,3)\n",
    "cats = ['<1%virus','1=<x<10%virus','10=<x<20%virus','20=<x<30%virus','>30%virus']\n",
    "colors = ['dimgray','darkblue','blue','cornflowerblue','turquoise']\n",
    "\n",
    "for col, inf_frac_cat in zip (colors,cats):\n",
    "    df = adata_human_virus_df[adata_human_virus_df.infection_frac== inf_frac_cat]\n",
    "    _ = sb.distplot(df['n_counts'],  kde=True, label= inf_frac_cat, hist=False,\n",
    "           color=col)\n",
    "    _.grid(False)\n",
    "    sb.despine()\n",
    "plt.legend(prop={'size': 20},bbox_to_anchor=(1.05, 1))\n",
    "plt.title('Total UMIs per Cell')\n",
    "plt.xlabel('UMIs per Cell')\n",
    "plt.ylabel('Density of cells')\n",
    "\n",
    "plt.savefig(fig_path+'n_counts_total_infectfrac_dist.pdf')"
   ]
  },
  {
   "cell_type": "code",
   "execution_count": null,
   "metadata": {},
   "outputs": [],
   "source": [
    "rcParams['figure.figsize']=(3,3)\n",
    "cats = ['<1%virus','1=<x<10%virus','10=<x<20%virus','20=<x<30%virus','>30%virus']\n",
    "colors = ['dimgray','darkblue','blue','cornflowerblue','turquoise']\n",
    "\n",
    "for col, inf_frac_cat in zip (colors,cats):\n",
    "    df = adata_human_virus_df[adata_human_virus_df.infection_frac== inf_frac_cat]\n",
    "    _ = sb.distplot(df['human_n_counts'],  kde=True, label= inf_frac_cat, hist=False,\n",
    "           color=col)\n",
    "    _.grid(False)\n",
    "    sb.despine()\n",
    "plt.legend(prop={'size': 20},bbox_to_anchor=(1.05, 1))\n",
    "plt.title('Human UMIs per Cell')\n",
    "plt.xlabel('Human UMIs per Cell')\n",
    "plt.ylabel('Density of cells')\n",
    "\n",
    "plt.savefig(fig_path+'n_counts_human_only_infectfrac_dist.pdf')"
   ]
  },
  {
   "cell_type": "code",
   "execution_count": null,
   "metadata": {},
   "outputs": [],
   "source": [
    "import scipy.stats as stats"
   ]
  },
  {
   "cell_type": "code",
   "execution_count": null,
   "metadata": {},
   "outputs": [],
   "source": [
    "# is there a correlation?\n",
    "corr_coef,pval = stats.pearsonr(adata_human_virus.obs['n_counts'],adata_human_virus.obs['viral_transcript_frac'])\n",
    "print(\"Correlation coefficient : \", corr_coef)\n",
    "print(\"pval : \", pval)"
   ]
  },
  {
   "cell_type": "code",
   "execution_count": null,
   "metadata": {},
   "outputs": [],
   "source": [
    "# is there a correlation?\n",
    "corr_coef,pval = stats.pearsonr(adata_human_virus.obs['human_n_counts'],adata_human_virus.obs['viral_transcript_frac'])\n",
    "print(\"Correlation coefficient : \", corr_coef)\n",
    "print(\"pval : \", pval)"
   ]
  },
  {
   "cell_type": "markdown",
   "metadata": {},
   "source": [
    "## confirm that removal of low counts and low genes doesn't change these results"
   ]
  },
  {
   "cell_type": "code",
   "execution_count": null,
   "metadata": {},
   "outputs": [],
   "source": [
    "human_genes = [name for name in adata_human_virus.var_names if name.startswith('GRCh38_')]\n",
    "adata_human_virus.obs['human_n_counts_postfilt'] = np.sum(adata_human_virus[:, human_genes].X, axis=1).A1\n",
    "adata_human_virus_df = pd.DataFrame(adata_human_virus.obs)"
   ]
  },
  {
   "cell_type": "code",
   "execution_count": null,
   "metadata": {},
   "outputs": [],
   "source": [
    "rcParams['figure.figsize']=(3,3)\n",
    "cats = ['<1%virus','1=<x<10%virus','10=<x<20%virus','20=<x<30%virus','>30%virus']\n",
    "colors = ['dimgray','darkblue','blue','cornflowerblue','turquoise']\n",
    "\n",
    "for col, inf_frac_cat in zip (colors,cats):\n",
    "    df = adata_human_virus_df[adata_human_virus_df.infection_frac== inf_frac_cat]\n",
    "    _ = sb.distplot(df['human_n_counts_postfilt'],  kde=True, label= inf_frac_cat, hist=False,\n",
    "           color=col)\n",
    "    _.grid(False)\n",
    "    sb.despine()\n",
    "plt.legend(prop={'size': 20},bbox_to_anchor=(1.05, 1))\n",
    "plt.title('Human UMIs per Cell')\n",
    "plt.xlabel('Human UMIs per Cell')\n",
    "plt.ylabel('Density of cells')\n",
    "\n",
    "#plt.savefig('human_n_counts_infectfrac_dist.pdf')"
   ]
  },
  {
   "cell_type": "code",
   "execution_count": null,
   "metadata": {},
   "outputs": [],
   "source": [
    "# is there a correlation?\n",
    "corr_coef,pval = stats.pearsonr(adata_human_virus.obs['human_n_counts_postfilt'],adata_human_virus.obs['viral_transcript_frac'])\n",
    "print(\"Correlation coefficient : \", corr_coef)\n",
    "print(\"pval : \", pval)"
   ]
  },
  {
   "cell_type": "code",
   "execution_count": null,
   "metadata": {},
   "outputs": [],
   "source": [
    "sp.stats.ks_2samp(adata_human_virus_df[adata_human_virus_df.infection_frac== '<1%virus']['human_n_counts'],\n",
    "                  adata_human_virus_df[adata_human_virus_df.infection_frac== '1=<x<10%virus']['human_n_counts'])"
   ]
  },
  {
   "cell_type": "code",
   "execution_count": null,
   "metadata": {},
   "outputs": [],
   "source": [
    "sp.stats.ks_2samp(adata_human_virus_df[adata_human_virus_df.infection_frac== '<1%virus']['human_n_counts'],\n",
    "                  adata_human_virus_df[adata_human_virus_df.infection_frac== '10=<x<20%virus']['human_n_counts'])"
   ]
  },
  {
   "cell_type": "code",
   "execution_count": null,
   "metadata": {},
   "outputs": [],
   "source": [
    "sp.stats.ks_2samp(adata_human_virus_df[adata_human_virus_df.infection_frac== '<1%virus']['human_n_counts'],\n",
    "                  adata_human_virus_df[adata_human_virus_df.infection_frac== '20=<x<30%virus']['human_n_counts'])"
   ]
  },
  {
   "cell_type": "markdown",
   "metadata": {},
   "source": [
    "# Plot percent infection "
   ]
  },
  {
   "cell_type": "markdown",
   "metadata": {},
   "source": [
    "## Call Infected cells"
   ]
  },
  {
   "cell_type": "code",
   "execution_count": null,
   "metadata": {},
   "outputs": [],
   "source": [
    "##Add annotation for RSV viral transcripts. \n",
    "    #Call infected vs uninfected using raw counts.\n",
    "    #add buffer region\n",
    "\n",
    "col = 'viral_transcript_n_counts'\n",
    "conditions = [adata_human_virus.obs[col] >= 40, \n",
    "              (adata_human_virus.obs[col] < 40) & (adata_human_virus.obs[col]>= 30),\n",
    "              adata_human_virus.obs[col] <30]\n",
    "infection_status = [\"infected\", \"buffer\", \"uninfected\"]\n",
    "adata_human_virus.obs['infection_status'] = np.select(conditions, infection_status, default=np.nan)\n",
    "adata_human_virus.obs['infection_status'].value_counts()"
   ]
  },
  {
   "cell_type": "code",
   "execution_count": null,
   "metadata": {},
   "outputs": [],
   "source": [
    "adata_human_virus_df = pd.DataFrame(adata_human_virus.obs)\n",
    "adata_human_virus_df[['tp','multi_cond']] = adata_human_virus_df['new_multiseq_id'].str.split('_',expand=True)\n",
    "adata_human_virus_df['tp'] = adata_human_virus_df[\"tp\"]. str. replace(\"hr\",\"\")"
   ]
  },
  {
   "cell_type": "code",
   "execution_count": null,
   "metadata": {},
   "outputs": [],
   "source": [
    "adata_human_virus_df"
   ]
  },
  {
   "cell_type": "code",
   "execution_count": null,
   "metadata": {},
   "outputs": [],
   "source": [
    "categories_order = pd.DataFrame([0,4,8,12]).reset_index().set_index(0)\n",
    "categories_order"
   ]
  },
  {
   "cell_type": "code",
   "execution_count": null,
   "metadata": {},
   "outputs": [],
   "source": [
    "total_cells_by_group = adata_human_virus_df.groupby(['treatment','tp']).count()\n",
    "count_infected_by_group = adata_human_virus_df.groupby(['treatment','tp']).apply(lambda x: (x['infection_status'] == 'infected').sum())\n",
    "\n",
    "total_cells_by_group "
   ]
  },
  {
   "cell_type": "code",
   "execution_count": null,
   "metadata": {},
   "outputs": [],
   "source": [
    "percent_inf_df =(\n",
    "    adata_human_virus_df.groupby(['treatment','tp'])\n",
    "    .apply(lambda x: (x['infection_status'] == \"infected\").mean() * 100) #confirmed w/ unit test\n",
    "    .reset_index(name=\"test_percent\")\n",
    ")\n",
    "percent_inf_df"
   ]
  },
  {
   "cell_type": "code",
   "execution_count": null,
   "metadata": {},
   "outputs": [],
   "source": [
    "infected_hk = 100-0.061996\n",
    "infected_hk"
   ]
  },
  {
   "cell_type": "markdown",
   "metadata": {},
   "source": [
    "## Figure 1B"
   ]
  },
  {
   "cell_type": "code",
   "execution_count": null,
   "metadata": {},
   "outputs": [],
   "source": [
    "df_sorted = percent_inf_df.sort_values(by='tp')\n",
    "custom_order = ['0','4','8','12']\n",
    "df_sorted = df_sorted .set_index('tp').loc[custom_order].reset_index()\n",
    "colors ={'RSV_infected':'Green','Heat_Killed_RSV' : 'Blue','Vehicle_Control':'Gray'}\n",
    "\n",
    "\n",
    "\n",
    "plt.rcParams['figure.figsize'] = (4,4)\n",
    "plt.rcParams['font.family'] = 'sans-serif'\n",
    "plt.rcParams['font.sans-serif'] = 'Arial'\n",
    "plt.rcParams['font.size'] = 20.0\n",
    "plt.rcParams['legend.fontsize'] = 20.0\n",
    "\n",
    "for treatment, data in df_sorted.groupby('treatment'):\n",
    "    plt.plot(data['tp'], data['test_percent'], marker='o', \n",
    "             linestyle='-', \n",
    "             color=colors[treatment], \n",
    "             label=treatment)\n",
    "    \n",
    "sb.despine()    \n",
    "plt.legend(prop={'size': 12},bbox_to_anchor=(1.05, 1))\n",
    "sb.despine()\n",
    "plt.grid(False)\n",
    "plt.xlabel('Timepoint (hrs)')\n",
    "plt.ylabel('Percent Infection (%)')\n",
    "\n",
    "#plt.savefig(fig_path+'lineplot_infectionpercent_by_treatment.pdf')"
   ]
  },
  {
   "cell_type": "code",
   "execution_count": null,
   "metadata": {
    "scrolled": false
   },
   "outputs": [],
   "source": [
    "plt.rcParams['figure.figsize'] = (4,4)\n",
    "plt.rcParams['font.family'] = 'sans-serif'\n",
    "plt.rcParams['font.sans-serif'] = 'Arial'\n",
    "plt.rcParams['font.size'] = 20.0\n",
    "plt.rcParams['legend.fontsize'] = 20.0\n",
    "\n",
    "colors ={'Heat_Killed_RSV' : 'Blue', 'RSV_infected':'Green', 'Vehicle_Control':'Grey'}\n",
    "sb.barplot(df_sorted, x=\"tp\", y=\"test_percent\", hue=\"treatment\",)\n",
    "plt.legend(prop={'size': 12},bbox_to_anchor=(1.05, 1))\n",
    "\n",
    "\n",
    "sb.despine()    \n",
    "plt.legend(prop={'size': 12},bbox_to_anchor=(1.05, 1))\n",
    "sb.despine()\n",
    "plt.grid(False)\n",
    "plt.xlabel('Timepoint (hrs)')\n",
    "plt.ylabel('Percent Infection (%)')"
   ]
  },
  {
   "cell_type": "markdown",
   "metadata": {},
   "source": [
    "## Figure 1B"
   ]
  },
  {
   "cell_type": "code",
   "execution_count": null,
   "metadata": {},
   "outputs": [],
   "source": [
    "adata_human_virus_df['tp'] = pd.to_numeric(adata_human_virus_df['tp'])\n",
    "adata_human_virus_df = adata_human_virus_df.sort_values(by='tp', ascending=True)\n",
    "\n",
    "adata_human_virus_df_grouped = adata_human_virus_df.groupby(['tp','treatment']).size().unstack(fill_value=0)\n",
    "adata_human_virus_df_grouped = np.log10(adata_human_virus_df_grouped)\n",
    "\n",
    "ax = adata_human_virus_df_grouped.plot(kind='bar', stacked=True,\n",
    "                                      color=colors\n",
    "                                      )\n",
    "\n",
    "sb.despine()    \n",
    "plt.legend(prop={'size': 12},bbox_to_anchor=(1.05, 1))\n",
    "sb.despine()\n",
    "plt.grid(False)\n",
    "plt.xlabel('Timepoint (hrs)')\n",
    "plt.ylabel('Total Cell Number (log10)')\n",
    "plt.xticks(rotation=0)\n",
    "\n",
    "#plt.savefig(fig_path+'totalcellnumber_barplot_by_treatment.pdf')"
   ]
  }
 ],
 "metadata": {
  "kernelspec": {
   "display_name": "de_scanpy_mast",
   "language": "python",
   "name": "de_scanpy_mast"
  },
  "language_info": {
   "codemirror_mode": {
    "name": "ipython",
    "version": 3
   },
   "file_extension": ".py",
   "mimetype": "text/x-python",
   "name": "python",
   "nbconvert_exporter": "python",
   "pygments_lexer": "ipython3",
   "version": "3.9.15"
  },
  "toc": {
   "base_numbering": 1,
   "nav_menu": {},
   "number_sections": true,
   "sideBar": true,
   "skip_h1_title": false,
   "title_cell": "Table of Contents",
   "title_sidebar": "Contents",
   "toc_cell": false,
   "toc_position": {
    "height": "calc(100% - 180px)",
    "left": "10px",
    "top": "150px",
    "width": "361.617645px"
   },
   "toc_section_display": true,
   "toc_window_display": true
  }
 },
 "nbformat": 4,
 "nbformat_minor": 4
}
