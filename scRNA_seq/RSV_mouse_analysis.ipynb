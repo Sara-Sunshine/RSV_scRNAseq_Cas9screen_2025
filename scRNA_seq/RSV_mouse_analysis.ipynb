{
 "cells": [
  {
   "cell_type": "code",
   "execution_count": null,
   "metadata": {},
   "outputs": [],
   "source": [
    "import scanpy as sc\n",
    "import anndata as ann\n",
    "import numpy as np\n",
    "import scipy as sp\n",
    "import pandas as pd\n",
    "import matplotlib.pyplot as plt\n",
    "import glob\n",
    "from matplotlib import rcParams\n",
    "from matplotlib import colors\n",
    "\n",
    "import seaborn as sb\n",
    "\n",
    "sc.settings.verbosity = 3\n",
    "\n",
    "\n",
    "plt.rcParams['figure.figsize']=(8,8) #rescale figures\n",
    "sc.settings.verbosity = 3\n",
    "sc.set_figure_params(dpi=200, dpi_save=300)\n",
    "sc.logging.print_versions()"
   ]
  },
  {
   "cell_type": "code",
   "execution_count": null,
   "metadata": {},
   "outputs": [],
   "source": [
    "import warnings\n",
    "warnings.simplefilter(action=\"ignore\", category=FutureWarning)"
   ]
  },
  {
   "cell_type": "code",
   "execution_count": null,
   "metadata": {},
   "outputs": [],
   "source": [
    "# Set size for plots\n",
    "sb.set_context(context='paper')"
   ]
  },
  {
   "cell_type": "code",
   "execution_count": null,
   "metadata": {},
   "outputs": [],
   "source": [
    "#set analysis version\n",
    "version = \"V1\"\n",
    "#set output files_path\n",
    "output_files_path = \"/Sunshine_DeRisi_RSV_files/\"\n",
    "\n",
    "fig_path = \"/Sunshine_DeRisi_RSV_files/figures/\""
   ]
  },
  {
   "cell_type": "code",
   "execution_count": null,
   "metadata": {},
   "outputs": [],
   "source": [
    "name = \"2024_RSV_annotated_unfiltered_mouse_virus\"##+version\n",
    "preprocessed_path = output_files_path+version+'_'+name+'.h5ad'\n",
    "\n",
    "adata_mouse_virus = sc.read_h5ad(preprocessed_path)"
   ]
  },
  {
   "cell_type": "code",
   "execution_count": null,
   "metadata": {},
   "outputs": [],
   "source": [
    "adata_mouse_virus.obs['mouse_n_genes'] = (adata_mouse_virus.X > 0).sum(1)"
   ]
  },
  {
   "cell_type": "markdown",
   "metadata": {},
   "source": [
    "## quick qc plots"
   ]
  },
  {
   "cell_type": "code",
   "execution_count": null,
   "metadata": {},
   "outputs": [],
   "source": [
    "#QC Histograms\n",
    "rcParams['figure.figsize']=(20,5)\n",
    "fig_ind=np.arange(131, 134)\n",
    "fig = plt.figure()\n",
    "fig.subplots_adjust(hspace=0.4, wspace=0.6)\n",
    "adata_mouse_virus\n",
    "p3_adata_mouse_virus = sb.histplot(adata_mouse_virus.obs['n_counts'], \n",
    "                 kde=False, #kde=false means not normalized\n",
    "                 ax=fig.add_subplot(fig_ind[0]))\n",
    "p4_adata_mouse_virus = sb.histplot(adata_mouse_virus.obs['n_counts'][adata_mouse_virus.obs['n_counts']<5000], \n",
    "                 kde=False, bins=60, \n",
    "                 ax=fig.add_subplot(fig_ind[1]))\n",
    "p5_adata_mouse_virus = sb.histplot(adata_mouse_virus.obs['n_counts'][adata_mouse_virus.obs['n_counts']>10000], \n",
    "                 kde=False, bins=60, \n",
    "                 ax=fig.add_subplot(fig_ind[2]))\n",
    "plt.show()"
   ]
  },
  {
   "cell_type": "code",
   "execution_count": null,
   "metadata": {},
   "outputs": [],
   "source": [
    "#Thresholding decision: genes\n",
    "rcParams['figure.figsize']=(20,5)\n",
    "fig_ind=np.arange(131, 133)\n",
    "fig = plt.figure()\n",
    "fig.subplots_adjust(hspace=0.4, wspace=0.6) #create a grid for subplots\n",
    "\n",
    "p6_adata_mouse_virus = sb.histplot(adata_mouse_virus.obs['n_genes'], kde=False, bins=60, ax=fig.add_subplot(fig_ind[0]))\n",
    "\n",
    "\n",
    "p7_adata_mouse_virus = sb.histplot(adata_mouse_virus.obs['n_genes'][adata_mouse_virus.obs['n_genes']<2500], \n",
    "                 kde=False, bins=60, ax=fig.add_subplot(fig_ind[1])) \n",
    "\n",
    "plt.show()"
   ]
  },
  {
   "cell_type": "code",
   "execution_count": null,
   "metadata": {},
   "outputs": [],
   "source": [
    "#Calcuate mouse cell summary statistics\n",
    "# Calculate summary statistics\n",
    "    #first extract n_count and n_genes for each cell\n",
    "#n_count for each cell\n",
    "mouse_n_genes_only = adata_mouse_virus.obs ['n_genes']\n",
    "mouse_n_genes_only.describe()\n",
    "mouse_n_genes_only_mean = np.mean(mouse_n_genes_only)\n",
    "print(mouse_n_genes_only_mean)\n",
    "mouse_n_genes_only_median = np.median(mouse_n_genes_only)\n",
    "print(mouse_n_genes_only_median)\n",
    "mouse_n_genes_only_range = np.ptp(mouse_n_genes_only)\n",
    "print(mouse_n_genes_only_range)\n",
    "mouse_n_genes_only_standard_deviation = np.std(mouse_n_genes_only) #sq root of variance\n",
    "print(mouse_n_genes_only_standard_deviation)\n",
    "\n",
    "# Now calculate uppper and lower limit for n_counts and n_genes \n",
    "\n",
    "print (mouse_n_genes_only_mean) \n",
    "mouse_n_genes_only_1SD_upper = mouse_n_genes_only_mean + mouse_n_genes_only_standard_deviation\n",
    "print(mouse_n_genes_only_1SD_upper)\n",
    "mouse_n_genes_only_1SD_lower = mouse_n_genes_only_mean - mouse_n_genes_only_standard_deviation\n",
    "print(mouse_n_genes_only_1SD_lower)\n",
    "mouse_n_genes_only_2SD_upper = mouse_n_genes_only_mean + (2*mouse_n_genes_only_standard_deviation)\n",
    "print (mouse_n_genes_only_2SD_upper)\n",
    "mouse_n_genes_only_2SD_lower = mouse_n_genes_only_mean - (2*mouse_n_genes_only_standard_deviation)\n",
    "print (mouse_n_genes_only_2SD_lower)\n",
    "mouse_n_genes_only_3SD_upper = mouse_n_genes_only_mean + (3*mouse_n_genes_only_standard_deviation)\n",
    "print (mouse_n_genes_only_3SD_upper)\n",
    "mouse_n_genes_only_3SD_lower = mouse_n_genes_only_mean - (3*mouse_n_genes_only_standard_deviation)\n",
    "print (mouse_n_genes_only_3SD_lower)\n",
    "\n",
    "\n",
    "# Calculate summary statistics\n",
    "mouse_n_counts_only = adata_mouse_virus.obs ['mouse_n_counts']\n",
    "mouse_n_counts_only.describe()\n",
    "mouse_n_counts_only_mean = np.mean(mouse_n_counts_only)\n",
    "print(mouse_n_counts_only_mean)\n",
    "mouse_n_counts_only_median = np.median(mouse_n_counts_only)\n",
    "print(mouse_n_counts_only_median)\n",
    "mouse_n_counts_only_range = np.ptp(mouse_n_counts_only)\n",
    "print(mouse_n_counts_only_range)\n",
    "mouse_n_counts_only_standard_deviation = np.std(mouse_n_counts_only) #sq root of variance\n",
    "print(mouse_n_counts_only_standard_deviation)\n",
    "\n",
    "\n",
    "\n",
    "# Now calculate uppper and lower limit for mouse_n_counts \n",
    "\n",
    "mouse_n_counts_only_1SD_upper = mouse_n_counts_only_mean + mouse_n_counts_only_standard_deviation\n",
    "print(mouse_n_counts_only_1SD_upper)\n",
    "mouse_n_counts_only_1SD_lower = mouse_n_counts_only_mean - mouse_n_counts_only_standard_deviation\n",
    "print(mouse_n_counts_only_1SD_lower)\n",
    "mouse_n_counts_only_2SD_upper = mouse_n_counts_only_mean + (2*mouse_n_counts_only_standard_deviation)\n",
    "print (mouse_n_counts_only_2SD_upper)\n",
    "mouse_n_counts_only_2SD_lower = mouse_n_counts_only_mean - (2*mouse_n_counts_only_standard_deviation)\n",
    "print (mouse_n_counts_only_2SD_lower)\n",
    "mouse_n_counts_only_3SD_upper = mouse_n_counts_only_mean + (3*mouse_n_counts_only_standard_deviation)\n",
    "print (mouse_n_counts_only_3SD_upper)\n",
    "mouse_n_counts_only_3SD_lower = mouse_n_counts_only_mean - (3*mouse_n_counts_only_standard_deviation)\n",
    "print (mouse_n_counts_only_3SD_lower)\n",
    "\n",
    "#Thresholding decision: genes\n",
    "rcParams['figure.figsize']=(20,5)\n",
    "fig_ind=np.arange(131, 133)\n",
    "fig = plt.figure()\n",
    "fig.subplots_adjust(hspace=0.4, wspace=0.6) #create a grid for subplots\n",
    "\n",
    "p6_adata_mouse_virus = sb.histplot(adata_mouse_virus.obs['n_genes'], kde=False, bins=60, ax=fig.add_subplot(fig_ind[0]))\n",
    "\n",
    "\n",
    "plt.axvline(mouse_n_genes_only_2SD_lower, color='b')\n",
    "\n",
    "\n",
    "p7_adata_mouse_virus = sb.histplot(adata_mouse_virus.obs['n_genes'][adata_mouse_virus.obs['n_genes']<2500], \n",
    "                 kde=False, bins=60, ax=fig.add_subplot(fig_ind[1])) \n",
    "plt.axvline(mouse_n_genes_only_3SD_lower, color='g')\n",
    "plt.axvline(mouse_n_genes_only_2SD_lower, color='b')\n",
    "plt.axvline(mouse_n_genes_only_1SD_lower, color='r')\n",
    "plt.show()\n",
    "\n",
    "\n",
    "\n",
    "\n",
    "rcParams['figure.figsize']=(20,5)\n",
    "fig_ind=np.arange(131, 134)\n",
    "fig = plt.figure()\n",
    "fig.subplots_adjust(hspace=0.4, wspace=0.6)\n",
    "\n",
    "p3_adata_mouse_virus = sb.histplot(adata_mouse_virus.obs['mouse_n_counts'], \n",
    "                 kde=False, #kde=false means not normalized\n",
    "                 ax=fig.add_subplot(fig_ind[0]))\n",
    "plt.axvline(mouse_n_counts_only_2SD_upper, color='b')\n",
    "plt.axvline(mouse_n_counts_only_2SD_lower, color='b')\n",
    "plt.axvline(mouse_n_counts_only_1SD_upper, color='r')\n",
    "plt.axvline(mouse_n_counts_only_1SD_lower, color='r')\n",
    "\n",
    "p4_adata_mouse_virus = sb.histplot(adata_mouse_virus.obs['mouse_n_counts'][adata_mouse_virus.obs['mouse_n_counts']<6000], \n",
    "                 kde=False, bins=60, \n",
    "                 ax=fig.add_subplot(fig_ind[1]))\n",
    "plt.axvline(mouse_n_counts_only_2SD_lower, color='b')\n",
    "plt.axvline(mouse_n_counts_only_1SD_lower, color='r')\n",
    "\n",
    "p5_adata_mouse_virus = sb.histplot(adata_mouse_virus.obs['mouse_n_counts'][adata_mouse_virus.obs['mouse_n_counts']>10000], \n",
    "                 kde=False, bins=60, \n",
    "                 ax=fig.add_subplot(fig_ind[2]))\n",
    "plt.axvline(mouse_n_counts_only_2SD_upper, color='b')\n",
    "plt.axvline(mouse_n_counts_only_1SD_upper, color='r')\n",
    "\n",
    "plt.show()"
   ]
  },
  {
   "cell_type": "code",
   "execution_count": null,
   "metadata": {
    "scrolled": true
   },
   "outputs": [],
   "source": [
    "adata_mouse_virus"
   ]
  },
  {
   "cell_type": "code",
   "execution_count": null,
   "metadata": {},
   "outputs": [],
   "source": [
    "#Filter mouse cells according to identified QC thresholds:\n",
    "print('Total number of cells: {:d}'.format(adata_mouse_virus.n_obs))\n",
    "\n",
    "sc.pp.filter_genes(adata_mouse_virus, min_cells=3)\n",
    "print('Number of genes after min cell filter: {:d}'.format(adata_mouse_virus.n_obs))\n",
    "\n",
    "sc.pp.filter_cells(adata_mouse_virus, min_counts = mouse_n_counts_only_2SD_lower)\n",
    "print('Number of cells after min count filter: {:d}'.format(adata_mouse_virus.n_obs))\n",
    "\n",
    "\n",
    "sc.pp.filter_cells(adata_mouse_virus, min_genes = mouse_n_genes_only_2SD_lower)\n",
    "print('Number of cells after gene filter: {:d}'.format(adata_mouse_virus.n_obs))"
   ]
  },
  {
   "cell_type": "markdown",
   "metadata": {},
   "source": [
    "# Normalize, log transform, scale"
   ]
  },
  {
   "cell_type": "code",
   "execution_count": null,
   "metadata": {},
   "outputs": [],
   "source": [
    "import logging"
   ]
  },
  {
   "cell_type": "code",
   "execution_count": null,
   "metadata": {},
   "outputs": [],
   "source": [
    "#Normlaize to median value, log transform\n",
    "sc.pp.normalize_per_cell(adata_mouse_virus)\n",
    "logging.info('Normalizing total counts to median cell count')\n",
    "#log transform data\n",
    "sc.pp.log1p(adata_mouse_virus)\n",
    "logging.info('Log transforming data')\n",
    "adata_mouse_virus.raw = adata_mouse_virus\n",
    "logging.info('Saving log(counts)+1 in adata_mouse_virus.raw')\n",
    "#Identify highly variable genes\n",
    "sc.pp.highly_variable_genes(adata_mouse_virus, min_mean=0.0125, max_mean=3, min_disp=0.5) #scanpy default settings\n",
    "sc.pp.scale(adata_mouse_virus, max_value=10) #Ye lab lupus paper"
   ]
  },
  {
   "cell_type": "code",
   "execution_count": null,
   "metadata": {},
   "outputs": [],
   "source": [
    "\n",
    "sc.pp.pca(adata_mouse_virus, n_comps=50, use_highly_variable=True, svd_solver='arpack')\n",
    "sc.pp.neighbors(adata_mouse_virus)\n",
    "\n",
    "sc.tl.tsne(adata_mouse_virus)\n",
    "sc.tl.umap(adata_mouse_virus)\n",
    "sc.tl.diffmap(adata_mouse_virus)\n",
    "sc.tl.draw_graph(adata_mouse_virus)"
   ]
  },
  {
   "cell_type": "markdown",
   "metadata": {},
   "source": [
    "## Figure S1A"
   ]
  },
  {
   "cell_type": "code",
   "execution_count": null,
   "metadata": {},
   "outputs": [],
   "source": [
    "rcParams['figure.figsize']=(4,4)\n",
    "fig= sc.pl.umap(adata_mouse_virus, color='viral_transcript_n_counts',cmap = 'magma_r',\n",
    "          frameon=False,show=False)\n",
    "\n",
    "plt.rcParams['font.family'] = 'sans-serif'\n",
    "plt.rcParams['font.sans-serif'] = 'Arial'\n",
    "plt.rcParams['font.size'] = 12.0\n",
    "plt.rcParams['legend.fontsize'] = 12.0\n",
    "\n",
    "\n",
    "plt.savefig(fig_path + 'umap_mouse_viral_transcripts.pdf')"
   ]
  },
  {
   "cell_type": "code",
   "execution_count": null,
   "metadata": {},
   "outputs": [],
   "source": [
    "mouse_virus_plot_df = pd.DataFrame(adata_mouse_virus.obs[['viral_transcript_n_counts','batch']])"
   ]
  },
  {
   "cell_type": "code",
   "execution_count": null,
   "metadata": {},
   "outputs": [],
   "source": [
    "rcParams['figure.figsize']=(3,3)\n",
    "ax = sb.violinplot(x='batch',y='viral_transcript_n_counts', data=mouse_virus_plot_df,\n",
    "             jitter=True, color='slategray',scale=\"count\",\n",
    "                  order=['3','2','1','0'])\n",
    "sb.despine(right=True)\n",
    "\n",
    "ax.set_xlabel('Time Point Batch (hours)')\n",
    "ax.set_ylabel('Raw Viral Transcript Counts')\n",
    "ax.set_xticklabels(['0','4','8','12'])\n",
    "ax.grid(False)\n",
    "\n",
    "plt.savefig(fig_path + 'violin_mouse_viral_transcripts_tp.pdf')"
   ]
  }
 ],
 "metadata": {
  "kernelspec": {
   "display_name": "de_scanpy_mast",
   "language": "python",
   "name": "de_scanpy_mast"
  },
  "language_info": {
   "codemirror_mode": {
    "name": "ipython",
    "version": 3
   },
   "file_extension": ".py",
   "mimetype": "text/x-python",
   "name": "python",
   "nbconvert_exporter": "python",
   "pygments_lexer": "ipython3",
   "version": "3.9.15"
  },
  "toc": {
   "base_numbering": 1,
   "nav_menu": {},
   "number_sections": true,
   "sideBar": true,
   "skip_h1_title": false,
   "title_cell": "Table of Contents",
   "title_sidebar": "Contents",
   "toc_cell": false,
   "toc_position": {},
   "toc_section_display": true,
   "toc_window_display": true
  }
 },
 "nbformat": 4,
 "nbformat_minor": 4
}
