{
 "cells": [
  {
   "cell_type": "code",
   "execution_count": null,
   "id": "5056fa94",
   "metadata": {},
   "outputs": [],
   "source": [
    "import scanpy as sc\n",
    "import anndata as ann\n",
    "import numpy as np\n",
    "import scipy as sp\n",
    "import pandas as pd\n",
    "import matplotlib.pyplot as plt\n",
    "import glob\n",
    "from matplotlib import rcParams\n",
    "from matplotlib import colors\n",
    "import logging\n",
    "\n",
    "import seaborn as sb\n",
    "\n",
    "sc.settings.verbosity = 3\n",
    "\n",
    "\n",
    "plt.rcParams['figure.figsize']=(8,8) #rescale figures\n",
    "sc.settings.verbosity = 3\n",
    "sc.set_figure_params(dpi=200, dpi_save=300)\n",
    "sc.logging.print_versions()"
   ]
  },
  {
   "cell_type": "code",
   "execution_count": null,
   "id": "a14eaee0",
   "metadata": {},
   "outputs": [],
   "source": [
    "import warnings\n",
    "warnings.simplefilter(action=\"ignore\", category=FutureWarning)"
   ]
  },
  {
   "cell_type": "code",
   "execution_count": null,
   "id": "dd96bf5c",
   "metadata": {},
   "outputs": [],
   "source": [
    "# Set size for plots\n",
    "sb.set_context(context='paper')"
   ]
  },
  {
   "cell_type": "code",
   "execution_count": null,
   "id": "41323f9c",
   "metadata": {},
   "outputs": [],
   "source": [
    "#set analysis version\n",
    "version = \"V1\"\n",
    "#set output files_path\n",
    "output_files_path = \"/Sunshine_DeRisi_RSV_files/\"\n",
    "\n",
    "fig_path = \"/Sunshine_DeRisi_RSV_files/figures/\""
   ]
  },
  {
   "cell_type": "code",
   "execution_count": null,
   "id": "e1f553be",
   "metadata": {},
   "outputs": [],
   "source": [
    "sc.settings.figdir = fig_path"
   ]
  },
  {
   "cell_type": "code",
   "execution_count": null,
   "id": "900ef5c4",
   "metadata": {},
   "outputs": [],
   "source": [
    "name = \"2024_RSV_annotated_filtered_human_virus\"\n",
    "preprocessed_path = output_files_path+version+'_'+name+'.h5ad'\n",
    "adata_human_virus = sc.read_h5ad(preprocessed_path)"
   ]
  },
  {
   "cell_type": "code",
   "execution_count": null,
   "id": "7e2708a2",
   "metadata": {},
   "outputs": [],
   "source": [
    "#id for read origin\n",
    "RSV = [name for name in adata_human_virus.var_names if name.startswith('RSV')]\n",
    "RSV_genome = [name for name in adata_human_virus.var_names if name.startswith('genome_RSV')]\n",
    "human_genes = adata_human_virus.var_names.str.startswith('GRCh38_')\n",
    "virus_genes = RSV + RSV_genome"
   ]
  },
  {
   "cell_type": "markdown",
   "id": "587d9a63",
   "metadata": {},
   "source": [
    "## for downstream ISG analysis"
   ]
  },
  {
   "cell_type": "code",
   "execution_count": null,
   "id": "a56d8cdf",
   "metadata": {},
   "outputs": [],
   "source": [
    "Hein_isgs = ['PSMB8','PSMB9','PSME1','PSME2','ISG15','ISG20','IRF7','MX1','MX2','GBP1','GBP2','GBP3','IFI6','IFI44','IFI35','IFI16','IFI27','IFIH1','IFI44L','IFIT1','IFIT2','IFIT3','IFIT5','IFITM1','IFITM2','IFITM3','EIF2AK2','OAS1','OAS2','OAS3','CNP','PLSCR1','BST2','BTN3A2','XAF1','CASP1','CASP4','CASP7','GSDMD']\n",
    "isg_gene_list = ['GRCh38_' + gene for gene in Hein_isgs]\n",
    "# determine what genes have at least 5 counts in at least 10 cells across this time point\n",
    "# while this should not change the gene score, subsetting to well expressed genes for gene scoring analysis downstream\n",
    "\n",
    "adata_human_virus_isgsubset = adata_human_virus[:,adata_human_virus.var_names.isin(isg_gene_list)]\n",
    "cell_ids = adata_human_virus_isgsubset.obs.index\n",
    "count_matrix = adata_human_virus_isgsubset.X.toarray()\n",
    "counts_df = pd.DataFrame(count_matrix, index = cell_ids, columns = adata_human_virus_isgsubset.var_names)\n",
    "\n",
    "cells_with_counts = (counts_df >= 5).sum(axis=0)\n",
    "genes_above_10 = cells_with_counts[cells_with_counts > 10]\n",
    "isg_subset = genes_above_10.index.tolist()\n",
    "isg_subset"
   ]
  },
  {
   "cell_type": "markdown",
   "id": "72d793b1",
   "metadata": {},
   "source": [
    "adata_human_virus = adata_human_virus[:,~adata_human_virus.var_names.isin(virus_genes)].copy() \n",
    "adata_human_virus"
   ]
  },
  {
   "cell_type": "markdown",
   "id": "01277555",
   "metadata": {},
   "source": [
    "# Normalize, log1p,scale"
   ]
  },
  {
   "cell_type": "code",
   "execution_count": null,
   "id": "9421aaa4",
   "metadata": {},
   "outputs": [],
   "source": [
    "sc.pp.normalize_per_cell(adata_human_virus)\n",
    "\n",
    "adata_human_virus.obs['n_counts_norm'] = adata_human_virus.X.sum(1)\n",
    "adata_human_virus.obs['n_counts_norm_log'] = np.log1p(adata_human_virus.obs['n_counts_norm'])\n",
    "\n",
    "#Sum the number of human and viral transcripts per cell POST NORM\n",
    "adata_human_virus.obs ['human_n_counts_norm'] = np.sum(adata_human_virus[:, human_genes].X, axis=1).A1\n",
    "\n",
    "adata_human_virus.obs['viral_transcript_n_counts_norm'] = np.sum(adata_human_virus[:, RSV].X, axis=1).A1\n",
    "\n",
    "#Sum the number of human and virus transcripts per cell and log transform (ln+1)\n",
    "adata_human_virus.obs ['viral_transcript_n_counts_norm_log'] = np.log1p(np.sum(adata_human_virus[:, RSV].X, axis=1).A1)\n",
    "adata_human_virus.obs ['human_n_counts_norm_log'] = np.log1p(np.sum(adata_human_virus[:, human_genes].X, axis=1).A1)"
   ]
  },
  {
   "cell_type": "code",
   "execution_count": null,
   "id": "2c677df5",
   "metadata": {},
   "outputs": [],
   "source": [
    "# filter genes not present within this time point\n",
    "sc.pp.filter_genes(adata_human_virus, min_cells=3)\n",
    "human_genes = adata_human_virus.var_names.str.startswith('GRCh38_')"
   ]
  },
  {
   "cell_type": "code",
   "execution_count": null,
   "id": "18189bff",
   "metadata": {},
   "outputs": [],
   "source": [
    "#log, scale, HVG isolate\n",
    "sc.pp.log1p(adata_human_virus)\n",
    "logging.info('Log transforming data')\n",
    "adata_human_virus.raw = adata_human_virus\n",
    "logging.info('Saving log(counts)+1 in .raw')"
   ]
  },
  {
   "cell_type": "code",
   "execution_count": null,
   "id": "5dcf8ca8",
   "metadata": {},
   "outputs": [],
   "source": [
    "#Identify highly variable genes\n",
    "sc.pp.highly_variable_genes(adata_human_virus, min_mean=0.0125, max_mean=10, min_disp=0.5)\n",
    "print('\\n','Number of highly variable genes: {:d}'.format(np.sum(adata_human_virus.var['highly_variable'])))"
   ]
  },
  {
   "cell_type": "code",
   "execution_count": null,
   "id": "c0179ec1",
   "metadata": {},
   "outputs": [],
   "source": [
    "sc.pp.scale(adata_human_virus, max_value=10)"
   ]
  },
  {
   "cell_type": "markdown",
   "id": "c2af106b",
   "metadata": {},
   "source": [
    "# ISG analysis"
   ]
  },
  {
   "cell_type": "code",
   "execution_count": null,
   "id": "56089be3",
   "metadata": {},
   "outputs": [],
   "source": [
    "sc.tl.score_genes(adata_human_virus,isg_subset, score_name='isg_subset_score')"
   ]
  },
  {
   "cell_type": "code",
   "execution_count": null,
   "id": "6c02d4d5",
   "metadata": {},
   "outputs": [],
   "source": [
    "adata_human_virus.obs['treatment_infectionstatus'] = adata_human_virus.obs['treatment'].astype(str)+'_'+adata_human_virus.obs['infection_status'].astype(str)\n",
    "adata_human_virus.obs['treatment_infectionstatus'] = adata_human_virus.obs['treatment_infectionstatus'].astype(\"category\")"
   ]
  },
  {
   "cell_type": "markdown",
   "id": "eed267a2",
   "metadata": {},
   "source": [
    "# subset to only include infected/bystander cells for each time point "
   ]
  },
  {
   "cell_type": "code",
   "execution_count": null,
   "id": "1d249783",
   "metadata": {},
   "outputs": [],
   "source": [
    "adata_human_virus_subset = adata_human_virus[((adata_human_virus.obs.infection_status != 'buffer')),:].copy()\n",
    "adata_human_virus_subset"
   ]
  },
  {
   "cell_type": "code",
   "execution_count": null,
   "id": "95026270",
   "metadata": {},
   "outputs": [],
   "source": [
    "cols_of_interest = ['batch','new_multiseq_id','treatment','infection_status','treatment_infectionstatus','isg_subset_score']\n",
    "adata_human_virus_subset_df = adata_human_virus_subset.obs[cols_of_interest].copy()\n",
    "adata_human_virus_subset_df"
   ]
  },
  {
   "cell_type": "code",
   "execution_count": null,
   "id": "0d0f07e7",
   "metadata": {},
   "outputs": [],
   "source": [
    "pd.crosstab(adata_human_virus_subset_df['new_multiseq_id'],adata_human_virus_subset_df['infection_status'])"
   ]
  },
  {
   "cell_type": "markdown",
   "id": "d3244ae0",
   "metadata": {},
   "source": [
    "## Figure S3B"
   ]
  },
  {
   "cell_type": "code",
   "execution_count": null,
   "id": "951102d2",
   "metadata": {},
   "outputs": [],
   "source": [
    "order = ['0hr_VC','4hr_VC','8hr_VC','12hr_VC',\n",
    "         '0hr_HK','4hr_HK','8hr_HK','12hr_HK',\n",
    "         '0hr_RSV','4hr_RSV','8hr_RSV','12hr_RSV',\n",
    "        ]\n",
    "plt.figure(figsize=(16, 4))\n",
    "\n",
    "\n",
    "palette = {'infected': 'lightcoral', 'uninfected': 'gainsboro'}\n",
    "\n",
    "sb.violinplot(x='new_multiseq_id', y='isg_subset_score', hue='infection_status', data=adata_human_virus_subset_df, \n",
    "               split=True, \n",
    "              palette=['lightcoral','gainsboro'],\n",
    "            inner=None,\n",
    "              dodge=False, \n",
    "              alpha=0.1,\n",
    "              scale='count',\n",
    "              linewidth=0.5,\n",
    "              gap=5, order = order,saturation=0.9\n",
    "             #density_norm='count'\n",
    "             )\n",
    "\n",
    "sb.stripplot(x='new_multiseq_id', y='isg_subset_score', hue='infection_status', \n",
    "             data=adata_human_virus_subset_df,dodge=True, \n",
    "             marker='o', alpha=1, size=0.2,\n",
    "             palette = palette, \n",
    "             order = order,\n",
    "            edgecolor=['black'],\n",
    "             linewidth=0.1)\n",
    "\n",
    "plt.legend(title='legend', loc='upper left', bbox_to_anchor=(1, 1))\n",
    "\n",
    "plt.xlabel(\"Time Point - Treatment\")  # Rename x-axis\n",
    "plt.ylabel(\"ISG Score\") \n",
    "\n",
    "sb.despine()\n",
    "\n",
    "\n",
    "plt.rcParams['font.family'] = 'sans-serif'\n",
    "plt.rcParams['font.sans-serif'] = 'Arial'\n",
    "plt.rcParams['font.size'] = 12.0\n",
    "plt.rcParams['legend.fontsize'] = 12.0\n",
    "\n",
    "#plt.savefig(fig_path+'violin_ISGscore_alltimepoints.pdf')"
   ]
  }
 ],
 "metadata": {
  "kernelspec": {
   "display_name": "de_scanpy_mast",
   "language": "python",
   "name": "de_scanpy_mast"
  },
  "language_info": {
   "codemirror_mode": {
    "name": "ipython",
    "version": 3
   },
   "file_extension": ".py",
   "mimetype": "text/x-python",
   "name": "python",
   "nbconvert_exporter": "python",
   "pygments_lexer": "ipython3",
   "version": "3.9.15"
  },
  "toc": {
   "base_numbering": 1,
   "nav_menu": {},
   "number_sections": true,
   "sideBar": true,
   "skip_h1_title": false,
   "title_cell": "Table of Contents",
   "title_sidebar": "Contents",
   "toc_cell": false,
   "toc_position": {},
   "toc_section_display": true,
   "toc_window_display": true
  }
 },
 "nbformat": 4,
 "nbformat_minor": 5
}
