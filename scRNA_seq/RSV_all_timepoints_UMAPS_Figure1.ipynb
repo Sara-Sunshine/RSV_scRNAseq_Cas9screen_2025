{
 "cells": [
  {
   "cell_type": "code",
   "execution_count": null,
   "id": "6ced82e5",
   "metadata": {},
   "outputs": [],
   "source": [
    "import scanpy as sc\n",
    "import anndata as ann\n",
    "import numpy as np\n",
    "import scipy as sp\n",
    "import pandas as pd\n",
    "import matplotlib.pyplot as plt\n",
    "import glob\n",
    "from matplotlib import rcParams\n",
    "from matplotlib import colors\n",
    "import logging\n",
    "\n",
    "import seaborn as sb\n",
    "\n",
    "sc.settings.verbosity = 3\n",
    "\n",
    "\n",
    "plt.rcParams['figure.figsize']=(8,8) #rescale figures\n",
    "sc.settings.verbosity = 3\n",
    "sc.set_figure_params(dpi=200, dpi_save=300, \n",
    "                     vector_friendly=False,\n",
    "                    format='pdf')\n",
    "\n",
    "sc.logging.print_versions()"
   ]
  },
  {
   "cell_type": "code",
   "execution_count": null,
   "id": "69a9daf4",
   "metadata": {},
   "outputs": [],
   "source": [
    "import warnings\n",
    "warnings.simplefilter(action=\"ignore\", category=FutureWarning)"
   ]
  },
  {
   "cell_type": "code",
   "execution_count": null,
   "id": "abe3bd78",
   "metadata": {},
   "outputs": [],
   "source": [
    "# Set size for plots\n",
    "sb.set_context(context='paper')"
   ]
  },
  {
   "cell_type": "code",
   "execution_count": null,
   "id": "3402da3d",
   "metadata": {},
   "outputs": [],
   "source": [
    "#set analysis version\n",
    "version = \"V1\"\n",
    "#set output files_path\n",
    "output_files_path = \"/Sunshine_DeRisi_RSV_files/\"\n",
    "\n",
    "fig_path = \"/Sunshine_DeRisi_RSV_files/figures/\""
   ]
  },
  {
   "cell_type": "code",
   "execution_count": null,
   "id": "ce34350e",
   "metadata": {},
   "outputs": [],
   "source": [
    "sc.settings.figdir = fig_path"
   ]
  },
  {
   "cell_type": "code",
   "execution_count": null,
   "id": "8ff99e0b",
   "metadata": {},
   "outputs": [],
   "source": [
    "name = \"2024_RSV_annotated_filtered_human_virus\"###doublets are removed\n",
    "preprocessed_path = output_files_path+version+'_'+name+'.h5ad'\n",
    "adata_human_virus = sc.read_h5ad(preprocessed_path)"
   ]
  },
  {
   "cell_type": "code",
   "execution_count": null,
   "id": "d3f43bab",
   "metadata": {},
   "outputs": [],
   "source": [
    "#id for read origin\n",
    "RSV = [name for name in adata_human_virus.var_names if name.startswith('RSV')]\n",
    "RSV_genome = [name for name in adata_human_virus.var_names if name.startswith('genome_RSV')]\n",
    "human_genes = adata_human_virus.var_names.str.startswith('GRCh38_')"
   ]
  },
  {
   "cell_type": "markdown",
   "id": "a62b60f1",
   "metadata": {},
   "source": [
    "# Normalize, log1p"
   ]
  },
  {
   "cell_type": "code",
   "execution_count": null,
   "id": "275bab9a",
   "metadata": {},
   "outputs": [],
   "source": [
    "sc.pp.normalize_per_cell(adata_human_virus)\n",
    "\n",
    "adata_human_virus.obs['n_counts_norm'] = adata_human_virus.X.sum(1)\n",
    "adata_human_virus.obs['n_counts_norm_log'] = np.log1p(adata_human_virus.obs['n_counts_norm'])\n",
    "\n",
    "#Sum the number of human and viral transcripts per cell POST NORM\n",
    "adata_human_virus.obs ['human_n_counts_norm'] = np.sum(adata_human_virus[:, human_genes].X, axis=1).A1\n",
    "adata_human_virus.obs['viral_transcript_n_counts_norm'] = np.sum(adata_human_virus[:, RSV].X, axis=1).A1\n",
    "#Sum the number of human and virus transcripts per cell and log transform (ln+1)\n",
    "adata_human_virus.obs ['viral_transcript_n_counts_norm_log'] = np.log1p(np.sum(adata_human_virus[:, RSV].X, axis=1).A1)\n",
    "adata_human_virus.obs ['human_n_counts_norm_log'] = np.log1p(np.sum(adata_human_virus[:, human_genes].X, axis=1).A1)"
   ]
  },
  {
   "cell_type": "code",
   "execution_count": null,
   "id": "21d8d88c",
   "metadata": {},
   "outputs": [],
   "source": [
    "#log, NOT scale, HVG isolate\n",
    "sc.pp.log1p(adata_human_virus)\n",
    "logging.info('Log transforming data')\n",
    "adata_human_virus.raw = adata_human_virus\n",
    "logging.info('Saving log(counts)+1 in .raw')\n",
    "#sc.pp.scale(adata_human_virus, max_value=10)\n",
    "\n",
    "\n",
    "#Identify highly variable genes\n",
    "sc.pp.highly_variable_genes(adata_human_virus, min_mean=0.0125, max_mean=3, min_disp=0.5) #scanpy default settings\n",
    "print('\\n','Number of highly variable genes: {:d}'.format(np.sum(adata_human_virus.var['highly_variable'])))"
   ]
  },
  {
   "cell_type": "markdown",
   "id": "9304ec16",
   "metadata": {},
   "source": [
    "# Reduce dimensionality"
   ]
  },
  {
   "cell_type": "code",
   "execution_count": null,
   "id": "26882201",
   "metadata": {},
   "outputs": [],
   "source": [
    "initialization = 1\n",
    "\n",
    "sc.tl.pca(adata_human_virus, random_state=initialization)\n",
    "\n",
    "rcParams['figure.figsize']=(4,4)\n",
    "sc.pl.pca_variance_ratio(adata_human_virus, n_pcs=50, log=True)"
   ]
  },
  {
   "cell_type": "markdown",
   "id": "47927344",
   "metadata": {},
   "source": [
    "## take a look at what is driving PCs"
   ]
  },
  {
   "cell_type": "code",
   "execution_count": null,
   "id": "a23f21f7",
   "metadata": {
    "scrolled": false
   },
   "outputs": [],
   "source": [
    "sc.pl.pca(\n",
    "    adata_human_virus,\n",
    "    color=[\"viral_transcript_frac\", \"viral_transcript_frac\", \"new_multiseq_id\", \"new_multiseq_id\",\n",
    "          \"frac_mito_human\",\"frac_mito_human\",\"human_n_counts\",\"human_n_counts\",\"batch\",\"batch\"],\n",
    "    dimensions=[(0, 1), (2, 3), (0, 1), (2, 3),(0, 1), (2, 3),(0, 1), (2, 3),(0, 1), (2, 3)],\n",
    "    ncols=2,\n",
    "    size=2,\n",
    ") #from https://scanpy.readthedocs.io/en/stable/tutorials/basics/clustering.html"
   ]
  },
  {
   "cell_type": "code",
   "execution_count": null,
   "id": "379c372e",
   "metadata": {},
   "outputs": [],
   "source": [
    "rcParams['figure.figsize']=(10,10)\n",
    "sc.pl.pca_loadings(adata_human_virus, components = '1,2,3')"
   ]
  },
  {
   "cell_type": "code",
   "execution_count": null,
   "id": "21613d09",
   "metadata": {},
   "outputs": [],
   "source": [
    "n_components = 40\n",
    "\n",
    "#Compute PCA\n",
    "sc.pp.pca(adata_human_virus, n_comps= n_components, use_highly_variable=True, svd_solver='arpack', random_state=initialization)\n",
    "sc.pp.neighbors(adata_human_virus,random_state=initialization)\n",
    "logging.info('KNN complete.')\n",
    "sc.tl.umap(adata_human_virus,random_state=initialization)\n",
    "logging.info('UMAP complete.')"
   ]
  },
  {
   "cell_type": "code",
   "execution_count": null,
   "id": "c9925230",
   "metadata": {},
   "outputs": [],
   "source": [
    "sc.tl.umap(adata_human_virus, min_dist=1, spread=0.5)"
   ]
  },
  {
   "cell_type": "code",
   "execution_count": null,
   "id": "71f990e7",
   "metadata": {},
   "outputs": [],
   "source": [
    "#this stretched out the heat inactivated RSV population in UMAP space --> plots for figure below\n",
    "fig, ((ax1, ax2)) = plt.subplots(1,2,figsize=(8,3), gridspec_kw={'wspace':0.4})\n",
    "\n",
    "\n",
    "sc.pl.umap(adata_human_virus[adata_human_virus.obs.treatment.isin([\"Heat_Killed_RSV\"]), :], \n",
    "                      color=\"viral_transcript_frac\",\n",
    "                      frameon=False, vmin=0, vmax=.45, \n",
    "                      ax=ax1,show=False,cmap='inferno', size=30,\n",
    "          title='Heat Inactivated RSV')\n",
    "\n",
    "sc.pl.umap(adata_human_virus[adata_human_virus.obs.treatment.isin([\"RSV_infected\"]), :], \n",
    "                      color=\"viral_transcript_frac\",\n",
    "                      frameon=False, vmin=0, vmax=.45,\n",
    "                      ax=ax2, show=False, cmap='inferno',\n",
    "          size=30,title='RSV')"
   ]
  },
  {
   "cell_type": "code",
   "execution_count": null,
   "id": "55322d6b",
   "metadata": {},
   "outputs": [],
   "source": [
    "import matplotlib.pyplot as plt\n",
    "import numpy as np\n",
    "from matplotlib.colors import LinearSegmentedColormap\n",
    "\n",
    "\n",
    "inferno = plt.cm.get_cmap('inferno', 256)\n",
    "new_colors = inferno(np.linspace(0, 1, 256))\n",
    "gray_to_purple = np.concatenate([np.linspace([0.2, 0.2, 0.2, 1.0], inferno(0.4), 100), inferno(np.linspace(0.4, 1, 156))])\n",
    "new_colors[:256] = gray_to_purple\n",
    "\n",
    "custom_inferno = LinearSegmentedColormap.from_list(\"CustomInferno\", new_colors)\n",
    "\n",
    "#test plot of custom_inferno\n",
    "plt.imshow(np.random.rand(10, 10), cmap=custom_inferno)\n",
    "plt.colorbar()\n",
    "plt.show()"
   ]
  },
  {
   "cell_type": "markdown",
   "id": "f43bad35",
   "metadata": {},
   "source": [
    "## Figure 1 C"
   ]
  },
  {
   "cell_type": "code",
   "execution_count": null,
   "id": "c2519cd5",
   "metadata": {},
   "outputs": [],
   "source": [
    "rcParams['figure.figsize']=(3,2.5)\n",
    "\n",
    "ax = sc.pl.umap(adata_human_virus[adata_human_virus.obs.treatment.isin([\"Vehicle_Control\"]), :], size=50, show=False)\n",
    "\n",
    "#in order for plot NOT to compress, plot RSV_infected cells w/ size = 0\n",
    "sc.pl.umap(\n",
    "    adata_human_virus[adata_human_virus.obs.treatment.isin([\"RSV_infected\"]), :], \n",
    "                      color=\"viral_transcript_frac\",\n",
    "                      frameon=False, vmin=0, vmax=.45, \n",
    "                     # ax=ax1,\n",
    "    show=False, \n",
    "    size=0,\n",
    "        color_map='Greys',\n",
    "        colorbar_loc= None,\n",
    "    ax=ax\n",
    ")\n",
    "\n",
    "\n",
    "sc.pl.umap(\n",
    "    adata_human_virus[adata_human_virus.obs.treatment.isin([\"Heat_Killed_RSV\"]), :], \n",
    "                      color=\"viral_transcript_frac\",\n",
    "                      frameon=False, vmin=0, vmax=.45, \n",
    "                     # ax=ax1,\n",
    "    show=False, \n",
    "    size=30,\n",
    "        color_map=custom_inferno,\n",
    "          title='Heat Inactivated RSV',\n",
    "    ax=ax\n",
    ")\n",
    "\n",
    "\n",
    "\n",
    "plt.rcParams['font.family'] = 'sans-serif'\n",
    "plt.rcParams['font.sans-serif'] = 'Arial'\n",
    "plt.rcParams['font.size'] = 12.0\n",
    "plt.rcParams['legend.fontsize'] = 12.0\n",
    "\n",
    "plt.savefig(fig_path+'umap_fig1_heatinactivated_overlayed_vc_20250222.pdf')"
   ]
  },
  {
   "cell_type": "code",
   "execution_count": null,
   "id": "e3fd5e05",
   "metadata": {
    "scrolled": false
   },
   "outputs": [],
   "source": [
    "rcParams['figure.figsize']=(3,2.5)\n",
    "\n",
    "ax = sc.pl.umap(adata_human_virus[adata_human_virus.obs.treatment.isin([\"Vehicle_Control\"]), :], size=50, show=False)\n",
    "\n",
    "# including here for completeness and to ensure size the same --> but not required\n",
    "sc.pl.umap(\n",
    "    adata_human_virus[adata_human_virus.obs.treatment.isin([\"Heat_Killed_RSV\"]), :], \n",
    "                      color=\"viral_transcript_frac\",\n",
    "                      frameon=False, vmin=0, vmax=.45, \n",
    "                     # ax=ax1,\n",
    "    show=False, \n",
    "    size=0,\n",
    "        color_map='Greys',\n",
    "    colorbar_loc= None,\n",
    "    ax=ax\n",
    ")\n",
    "\n",
    "\n",
    "\n",
    "sc.pl.umap(\n",
    "    adata_human_virus[adata_human_virus.obs.treatment.isin([\"RSV_infected\"]), :], \n",
    "                      color=\"viral_transcript_frac\",\n",
    "                      frameon=False, vmin=0, vmax=.45, \n",
    "                     # ax=ax1,\n",
    "    show=False,\n",
    "    color_map=custom_inferno,\n",
    "    size=30,\n",
    "          title='RSV',\n",
    "    ax=ax\n",
    ")\n",
    "\n",
    "plt.rcParams['font.family'] = 'sans-serif'\n",
    "plt.rcParams['font.sans-serif'] = 'Arial'\n",
    "plt.rcParams['font.size'] = 12.0\n",
    "plt.rcParams['legend.fontsize'] = 12.0\n",
    "\n",
    "#plt.savefig(fig_path+'umap_fig1_rsvinfected_overlayed_vc_20250222.pdf')"
   ]
  }
 ],
 "metadata": {
  "kernelspec": {
   "display_name": "de_scanpy_mast",
   "language": "python",
   "name": "de_scanpy_mast"
  },
  "language_info": {
   "codemirror_mode": {
    "name": "ipython",
    "version": 3
   },
   "file_extension": ".py",
   "mimetype": "text/x-python",
   "name": "python",
   "nbconvert_exporter": "python",
   "pygments_lexer": "ipython3",
   "version": "3.9.15"
  },
  "toc": {
   "base_numbering": 1,
   "nav_menu": {},
   "number_sections": true,
   "sideBar": true,
   "skip_h1_title": false,
   "title_cell": "Table of Contents",
   "title_sidebar": "Contents",
   "toc_cell": false,
   "toc_position": {},
   "toc_section_display": true,
   "toc_window_display": false
  }
 },
 "nbformat": 4,
 "nbformat_minor": 5
}
