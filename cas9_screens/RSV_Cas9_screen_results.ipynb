{
 "cells": [
  {
   "cell_type": "code",
   "execution_count": null,
   "metadata": {},
   "outputs": [],
   "source": [
    "import numpy as np\n",
    "import pandas as pd\n",
    "import matplotlib.pyplot as plt\n",
    "import seaborn as sb\n",
    "from adjustText import adjust_text\n",
    "import adjustText as ad\n",
    "from matplotlib.gridspec import GridSpec"
   ]
  },
  {
   "cell_type": "code",
   "execution_count": null,
   "metadata": {},
   "outputs": [],
   "source": [
    "df_gene_screen1_viability = pd.read_csv('mageck_screen1_viability.gene_summary.txt',sep='\\t')\n",
    "df_gene_screen2_early_infection = pd.read_csv('mageck_screen2_early_infection.gene_summary.csv')"
   ]
  },
  {
   "cell_type": "markdown",
   "metadata": {},
   "source": [
    "# Screen 1 - viability screen"
   ]
  },
  {
   "cell_type": "code",
   "execution_count": null,
   "metadata": {},
   "outputs": [],
   "source": [
    "df_gene_screen1_viability['plot_pos|score']=-np.log10(df_gene_screen1_viability['pos|score'])"
   ]
  },
  {
   "cell_type": "code",
   "execution_count": null,
   "metadata": {},
   "outputs": [],
   "source": [
    "df_gene_screen1_viability.index.dtype"
   ]
  },
  {
   "cell_type": "code",
   "execution_count": null,
   "metadata": {},
   "outputs": [],
   "source": [
    "df_gene_screen1_viability_alpha = df_gene_screen1_viability.sort_values(by='id')\n",
    "df_gene_screen1_viability_alpha = df_gene_screen1_viability_alpha.reset_index()"
   ]
  },
  {
   "cell_type": "markdown",
   "metadata": {},
   "source": [
    "## Figure 3B"
   ]
  },
  {
   "cell_type": "code",
   "execution_count": null,
   "metadata": {
    "scrolled": false
   },
   "outputs": [],
   "source": [
    "threshold = 4\n",
    "\n",
    "plt.figure(figsize=(15,5))\n",
    "plt.rcParams['font.family'] = 'sans-serif'\n",
    "plt.rcParams['font.sans-serif'] = 'Arial'\n",
    "plt.rcParams['font.size'] = 12.0\n",
    "plt.rcParams['legend.fontsize'] = 12.0\n",
    "\n",
    "grid = sb.scatterplot(x=df_gene_screen1_viability_alpha.index, y='plot_pos|score', data=df_gene_screen1_viability_alpha,\n",
    "                     color='black',edgecolor='none')\n",
    "grid.set(xlim=(None, None), ylim=(None, None))\n",
    "\n",
    "plt.xlabel('Genes', fontsize=20)\n",
    "plt.xticks([])\n",
    "plt.ylabel('-log10(Enrichment Score)', fontsize=20)\n",
    "plt.title('Viability Screen')\n",
    "texts=[plt.text(x=i, \n",
    "                y=df_gene_screen1_viability_alpha.loc[df_gene_screen1_viability_alpha['plot_pos|score']>threshold]['plot_pos|score'][i],\n",
    "                s=df_gene_screen1_viability_alpha.loc[df_gene_screen1_viability_alpha['plot_pos|score']>threshold]['id'][i])\n",
    "       for i in df_gene_screen1_viability_alpha.loc[df_gene_screen1_viability_alpha['plot_pos|score']>threshold].index]\n",
    "ad.adjust_text(texts,arrowprops=dict(arrowstyle='-', color='grey',lw=0.5))\n",
    "\n",
    "sb.despine()\n",
    "#plt.savefig('viability_screen_-log10enrichment_genes.pdf')"
   ]
  },
  {
   "cell_type": "markdown",
   "metadata": {},
   "source": [
    "# Screen 2 - early infection screen"
   ]
  },
  {
   "cell_type": "code",
   "execution_count": null,
   "metadata": {},
   "outputs": [],
   "source": [
    "df_gene_screen2_early_infection['plot_pos|score']=-np.log10(df_gene_screen2_early_infection['pos|score'])"
   ]
  },
  {
   "cell_type": "code",
   "execution_count": null,
   "metadata": {},
   "outputs": [],
   "source": [
    "# Reorder the dataframe alphabetically\n",
    "df_gene_screen2_early_infection_alpha = df_gene_screen2_early_infection.sort_values(by='id')\n",
    "df_gene_screen2_early_infection_alpha = df_gene_screen2_early_infection_alpha.reset_index()"
   ]
  },
  {
   "cell_type": "markdown",
   "metadata": {},
   "source": [
    "## Figure 3C"
   ]
  },
  {
   "cell_type": "code",
   "execution_count": null,
   "metadata": {},
   "outputs": [],
   "source": [
    "threshold = 4\n",
    "\n",
    "plt.figure(figsize=(15,5))\n",
    "plt.rcParams['font.family'] = 'sans-serif'\n",
    "plt.rcParams['font.sans-serif'] = 'Arial'\n",
    "plt.rcParams['font.size'] = 12.0\n",
    "plt.rcParams['legend.fontsize'] = 12.0\n",
    "\n",
    "\n",
    "grid = sb.scatterplot(x=df_gene_screen2_early_infection_alpha.index, y='plot_pos|score', data=df_gene_screen2_early_infection_alpha,\n",
    "                     color='grey',edgecolor='None',alpha=0.5)\n",
    "grid.set(xlim=(None, None), ylim=(None, None))\n",
    "\n",
    "\n",
    "plt.xlabel('Genes', fontsize=20)\n",
    "plt.xticks([])\n",
    "plt.ylabel('-log10(Enrichment Score)', fontsize=20)\n",
    "plt.title('Early Infection Screen')\n",
    "texts=[plt.text(x=i, \n",
    "                y=df_gene_screen2_early_infection_alpha.loc[df_gene_screen2_early_infection_alpha['plot_pos|score']>threshold]['plot_pos|score'][i],\n",
    "                s=df_gene_screen2_early_infection_alpha.loc[df_gene_screen2_early_infection_alpha['plot_pos|score']>threshold]['id'][i])\n",
    "       for i in df_gene_screen2_early_infection_alpha.loc[df_gene_screen2_early_infection_alpha['plot_pos|score']>threshold].index]\n",
    "ad.adjust_text(texts,arrowprops=dict(arrowstyle='-', color='grey',lw=0.5))\n",
    "\n",
    "sb.despine()\n",
    "#plt.savefig('early_infection_screen_-log10enrichment_genes.pdf')"
   ]
  },
  {
   "cell_type": "markdown",
   "metadata": {},
   "source": [
    "# viability screen vs. early infection screen"
   ]
  },
  {
   "cell_type": "code",
   "execution_count": null,
   "metadata": {},
   "outputs": [],
   "source": [
    "merge = pd.merge(df_gene_screen1_viability,df_gene_screen2_early_infection,on='id',validate=\"1:1\")"
   ]
  },
  {
   "cell_type": "markdown",
   "metadata": {},
   "source": [
    "## Figure S4A"
   ]
  },
  {
   "cell_type": "code",
   "execution_count": null,
   "metadata": {},
   "outputs": [],
   "source": [
    "enrichment_threshold = 4\n",
    "\n",
    "plt.figure(figsize=(15,15))\n",
    "plt.rcParams['font.family'] = 'sans-serif'\n",
    "plt.rcParams['font.sans-serif'] = 'Arial'\n",
    "plt.rcParams['font.size'] = 12.0\n",
    "plt.rcParams['legend.fontsize'] = 12.0\n",
    "\n",
    "grid = sb.scatterplot(x='plot_pos|score_x', y='plot_pos|score_y', data=merge, color='grey',\n",
    "                     edgecolor='none',alpha=0.4,s=100)\n",
    "\n",
    "axes = grid.axes\n",
    "\n",
    "plt.title('Viability vs. Early Infection Screen')\n",
    "plt.xlabel('Screen 1 -log10(Enrichment Score)', fontsize=20)\n",
    "plt.ylabel(' Screen 2 -log10(Enrichment Score)', fontsize=20)\n",
    "\n",
    "\n",
    "\n",
    "sb.despine()\n",
    "plt.xlim(0,20)\n",
    "plt.ylim(0,20)\n",
    "\n",
    "\n",
    "enrichment_threshold= 3\n",
    "texts=[plt.text(x=merge.loc[merge['plot_pos|score_y']>enrichment_threshold]['plot_pos|score_x'][i], \n",
    "                y=merge.loc[merge['plot_pos|score_y']>enrichment_threshold]['plot_pos|score_y'][i],\n",
    "                s=merge.loc[merge['plot_pos|score_y']>enrichment_threshold]['id'][i],fontsize=15,rotation=0)\n",
    "        for i in merge.loc[merge['plot_pos|score_y']>enrichment_threshold].index]\n",
    "\n",
    "texts=[plt.text(x=merge.loc[merge['plot_pos|score_x']>enrichment_threshold]['plot_pos|score_x'][i], \n",
    "                y=merge.loc[merge['plot_pos|score_x']>enrichment_threshold]['plot_pos|score_y'][i],\n",
    "                s=merge.loc[merge['plot_pos|score_x']>enrichment_threshold]['id'][i],fontsize=15,rotation=0)\n",
    "        for i in merge.loc[merge['plot_pos|score_x']>enrichment_threshold].index]\n",
    "\n",
    "#plt.savefig('screen1vsscreen2.pdf')"
   ]
  },
  {
   "cell_type": "code",
   "execution_count": null,
   "metadata": {},
   "outputs": [],
   "source": []
  }
 ],
 "metadata": {
  "kernelspec": {
   "display_name": "Python 3 (ipykernel)",
   "language": "python",
   "name": "python3"
  },
  "language_info": {
   "codemirror_mode": {
    "name": "ipython",
    "version": 3
   },
   "file_extension": ".py",
   "mimetype": "text/x-python",
   "name": "python",
   "nbconvert_exporter": "python",
   "pygments_lexer": "ipython3",
   "version": "3.9.15"
  },
  "toc": {
   "base_numbering": 1,
   "nav_menu": {},
   "number_sections": true,
   "sideBar": true,
   "skip_h1_title": false,
   "title_cell": "Table of Contents",
   "title_sidebar": "Contents",
   "toc_cell": false,
   "toc_position": {},
   "toc_section_display": true,
   "toc_window_display": true
  }
 },
 "nbformat": 4,
 "nbformat_minor": 4
}
