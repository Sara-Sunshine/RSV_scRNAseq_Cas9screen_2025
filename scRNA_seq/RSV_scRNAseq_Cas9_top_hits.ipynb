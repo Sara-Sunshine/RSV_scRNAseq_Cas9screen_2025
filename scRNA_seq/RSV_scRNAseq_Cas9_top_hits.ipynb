{
 "cells": [
  {
   "cell_type": "code",
   "execution_count": null,
   "id": "5056fa94",
   "metadata": {},
   "outputs": [],
   "source": [
    "import scanpy as sc\n",
    "import anndata as ann\n",
    "import numpy as np\n",
    "import scipy as sp\n",
    "import pandas as pd\n",
    "import matplotlib.pyplot as plt\n",
    "import glob\n",
    "from matplotlib import rcParams\n",
    "from matplotlib import colors\n",
    "import logging\n",
    "\n",
    "import seaborn as sb\n",
    "\n",
    "sc.settings.verbosity = 3\n",
    "\n",
    "\n",
    "plt.rcParams['figure.figsize']=(8,8) #rescale figures\n",
    "sc.settings.verbosity = 3\n",
    "sc.set_figure_params(dpi=200, dpi_save=300)\n",
    "sc.logging.print_versions()"
   ]
  },
  {
   "cell_type": "code",
   "execution_count": null,
   "id": "a14eaee0",
   "metadata": {},
   "outputs": [],
   "source": [
    "import warnings\n",
    "warnings.simplefilter(action=\"ignore\", category=FutureWarning)"
   ]
  },
  {
   "cell_type": "code",
   "execution_count": null,
   "id": "dd96bf5c",
   "metadata": {},
   "outputs": [],
   "source": [
    "# Set size for plots\n",
    "sb.set_context(context='paper')"
   ]
  },
  {
   "cell_type": "code",
   "execution_count": null,
   "id": "41323f9c",
   "metadata": {},
   "outputs": [],
   "source": [
    "#set analysis version\n",
    "version = \"V1\"\n",
    "#set output files_path\n",
    "output_files_path = \"/Sunshine_DeRisi_RSV_files/\"\n",
    "\n",
    "fig_path = \"/Sunshine_DeRisi_RSV_files/figures/\""
   ]
  },
  {
   "cell_type": "code",
   "execution_count": null,
   "id": "e1f553be",
   "metadata": {},
   "outputs": [],
   "source": [
    "sc.settings.figdir = fig_path"
   ]
  },
  {
   "cell_type": "code",
   "execution_count": null,
   "id": "900ef5c4",
   "metadata": {},
   "outputs": [],
   "source": [
    "name = \"2024_RSV_annotated_filtered_human_virus\"###doublets are removed\n",
    "preprocessed_path = output_files_path+version+'_'+name+'.h5ad'\n",
    "adata_human_virus = sc.read_h5ad(preprocessed_path)"
   ]
  },
  {
   "cell_type": "code",
   "execution_count": null,
   "id": "7e2708a2",
   "metadata": {},
   "outputs": [],
   "source": [
    "#id for read origin\n",
    "RSV = [name for name in adata_human_virus.var_names if name.startswith('RSV')]\n",
    "RSV_genome = [name for name in adata_human_virus.var_names if name.startswith('genome_RSV')]\n",
    "human_genes = adata_human_virus.var_names.str.startswith('GRCh38_')\n",
    "virus_genes = RSV + RSV_genome"
   ]
  },
  {
   "cell_type": "markdown",
   "id": "587d9a63",
   "metadata": {},
   "source": [
    "## for downstream analysis of top Cas9 screening results"
   ]
  },
  {
   "cell_type": "code",
   "execution_count": null,
   "id": "e85ad98b",
   "metadata": {},
   "outputs": [],
   "source": [
    "rsv_cas9_genes = ['TMEM165','SYS1','ARFRP1','HS6ST1','NDST1','TM9SF2','SLC39A9',\n",
    "                  'HS3ST6','COG3','COG4','COG5','COG6','B3GAT3','B3GALT6','SLC35B2',\n",
    "                  'EXT1','EXTL3','EXT2','B4GALT7','UNC50','ATP6V1B2','RAB4A']\n",
    "cas9_gene_list = ['GRCh38_' + gene for gene in rsv_cas9_genes]\n",
    "\n",
    "# determine what genes have at least 5 counts in at least 10 cells across this time point\n",
    "# subsetting expressed genes for downstream analysis\n",
    "\n",
    "\n",
    "adata_human_virus_cas9gene_subset = adata_human_virus[:,adata_human_virus.var_names.isin(cas9_gene_list)]\n",
    "cell_ids = adata_human_virus_cas9gene_subset.obs.index\n",
    "count_matrix = adata_human_virus_cas9gene_subset.X.toarray()\n",
    "counts_df = pd.DataFrame(count_matrix, index = cell_ids, columns = adata_human_virus_cas9gene_subset.var_names)\n",
    "\n",
    "cells_with_counts = (counts_df >= 5).sum(axis=0)\n",
    "genes_above_10 = cells_with_counts[cells_with_counts > 10]\n",
    "cas9_gene_subset = genes_above_10.index.tolist()\n",
    "cas9_gene_subset"
   ]
  },
  {
   "cell_type": "markdown",
   "id": "01277555",
   "metadata": {},
   "source": [
    "# Normalize, log1p,scale"
   ]
  },
  {
   "cell_type": "code",
   "execution_count": null,
   "id": "9421aaa4",
   "metadata": {},
   "outputs": [],
   "source": [
    "sc.pp.normalize_per_cell(adata_human_virus)\n",
    "\n",
    "adata_human_virus.obs['n_counts_norm'] = adata_human_virus.X.sum(1)\n",
    "adata_human_virus.obs['n_counts_norm_log'] = np.log1p(adata_human_virus.obs['n_counts_norm'])\n",
    "\n",
    "#Sum the number of human and viral transcripts per cell POST NORM\n",
    "adata_human_virus.obs ['human_n_counts_norm'] = np.sum(adata_human_virus[:, human_genes].X, axis=1).A1\n",
    "\n",
    "adata_human_virus.obs['viral_transcript_n_counts_norm'] = np.sum(adata_human_virus[:, RSV].X, axis=1).A1\n",
    "\n",
    "#Sum the number of human and virus transcripts per cell and log transform (ln+1)\n",
    "adata_human_virus.obs ['viral_transcript_n_counts_norm_log'] = np.log1p(np.sum(adata_human_virus[:, RSV].X, axis=1).A1)\n",
    "adata_human_virus.obs ['human_n_counts_norm_log'] = np.log1p(np.sum(adata_human_virus[:, human_genes].X, axis=1).A1)"
   ]
  },
  {
   "cell_type": "code",
   "execution_count": null,
   "id": "2c677df5",
   "metadata": {},
   "outputs": [],
   "source": [
    "# filter genes not present within this time point\n",
    "sc.pp.filter_genes(adata_human_virus, min_cells=3)\n",
    "human_genes = adata_human_virus.var_names.str.startswith('GRCh38_')"
   ]
  },
  {
   "cell_type": "code",
   "execution_count": null,
   "id": "18189bff",
   "metadata": {},
   "outputs": [],
   "source": [
    "#log1p\n",
    "sc.pp.log1p(adata_human_virus)\n",
    "logging.info('Log transforming data')\n",
    "adata_human_virus.raw = adata_human_virus\n",
    "logging.info('Saving log(counts)+1 in .raw')"
   ]
  },
  {
   "cell_type": "markdown",
   "id": "eed267a2",
   "metadata": {},
   "source": [
    "# subset to only include infected/bystander cells for each time point "
   ]
  },
  {
   "cell_type": "code",
   "execution_count": null,
   "id": "1d249783",
   "metadata": {},
   "outputs": [],
   "source": [
    "adata_human_virus_subset = adata_human_virus[((adata_human_virus.obs.infection_status != 'buffer')),:].copy()\n",
    "adata_human_virus_subset"
   ]
  },
  {
   "cell_type": "code",
   "execution_count": null,
   "id": "3a48c012",
   "metadata": {},
   "outputs": [],
   "source": [
    "adata_human_virus_subset.obs.head()"
   ]
  },
  {
   "cell_type": "markdown",
   "id": "1da449a7",
   "metadata": {},
   "source": [
    "# create df that includes genes of interest"
   ]
  },
  {
   "cell_type": "code",
   "execution_count": null,
   "id": "6d5c9ca3",
   "metadata": {},
   "outputs": [],
   "source": [
    "adata_human_virus_subset.obs['treatment_infectionstatus'] = adata_human_virus_subset.obs['treatment'].astype(str)+'_'+adata_human_virus_subset.obs['infection_status'].astype(str)\n",
    "adata_human_virus_subset.obs['treatment_infectionstatus'] = adata_human_virus_subset.obs['treatment_infectionstatus'].astype(\"category\")"
   ]
  },
  {
   "cell_type": "code",
   "execution_count": null,
   "id": "8f90dc3f",
   "metadata": {
    "scrolled": true
   },
   "outputs": [],
   "source": [
    "cols_of_interest = ['batch','new_multiseq_id','treatment','infection_status','treatment_infectionstatus']\n",
    "adata_human_virus_subset_df = adata_human_virus_subset.obs[cols_of_interest].copy()\n",
    "adata_human_virus_subset_df"
   ]
  },
  {
   "cell_type": "code",
   "execution_count": null,
   "id": "699321ff",
   "metadata": {},
   "outputs": [],
   "source": [
    "cas9_expression_data = adata_human_virus_subset.raw[:, cas9_gene_list].X.toarray()\n",
    "\n",
    "# Create a dataframe with expression data\n",
    "cas9_gex_df = pd.DataFrame(cas9_expression_data, columns=cas9_gene_list, index=adata_human_virus_subset.obs_names)"
   ]
  },
  {
   "cell_type": "code",
   "execution_count": null,
   "id": "c086bcea",
   "metadata": {},
   "outputs": [],
   "source": [
    "gex_metadata_df = pd.concat([adata_human_virus_subset_df, cas9_gex_df], axis=1)"
   ]
  },
  {
   "cell_type": "code",
   "execution_count": null,
   "id": "0d0f07e7",
   "metadata": {
    "scrolled": true
   },
   "outputs": [],
   "source": [
    "pd.crosstab(adata_human_virus_subset_df['new_multiseq_id'],adata_human_virus_subset_df['infection_status'])"
   ]
  },
  {
   "cell_type": "code",
   "execution_count": null,
   "id": "876afbd9",
   "metadata": {},
   "outputs": [],
   "source": [
    "#genes selected from above\n",
    "cas9_gene_subset_re_ordered = ['GRCh38_TMEM165',\n",
    "     'GRCh38_TM9SF2',\n",
    "     'GRCh38_ARFRP1',\n",
    "     'GRCh38_UNC50',\n",
    "    'GRCh38_B4GALT7',\n",
    "     'GRCh38_SLC35B2',\n",
    "     'GRCh38_B3GAT3',\n",
    "     'GRCh38_ATP6V1B2',\n",
    "     'GRCh38_RAB4A',]"
   ]
  },
  {
   "cell_type": "markdown",
   "id": "7986bb4a",
   "metadata": {},
   "source": [
    "# Figure S5"
   ]
  },
  {
   "cell_type": "code",
   "execution_count": null,
   "id": "391a68a4",
   "metadata": {
    "scrolled": false
   },
   "outputs": [],
   "source": [
    "gene_list = cas9_gene_subset_re_ordered\n",
    "palette = {'infected': 'lightcoral', 'uninfected': 'gainsboro'}\n",
    "order = ['0hr_VC','4hr_VC','8hr_VC','12hr_VC',\n",
    "         '0hr_HK','4hr_HK','8hr_HK','12hr_HK',\n",
    "         '0hr_RSV','4hr_RSV','8hr_RSV','12hr_RSV',\n",
    "        ]\n",
    "\n",
    "fig, axes = plt.subplots(nrows=len(gene_list), ncols=1,\n",
    "                                   figsize=(16, 2 * len(gene_list)), sharex=True)\n",
    "\n",
    "if len(gene_list) == 1:\n",
    "    axes = [axes]\n",
    "    \n",
    "for i, gene in enumerate(gene_list):\n",
    "    ax=axes[i]\n",
    "    \n",
    "    sb.violinplot(x='new_multiseq_id', y=gene, hue='infection_status',\n",
    "                  data=gex_metadata_df,\n",
    "                  split=True,\n",
    "                  palette=palette,inner=None,\n",
    "                  dodge=False,\n",
    "                  alpha=0.1,\n",
    "                  scale='count',\n",
    "                  linewidth=0.5,\n",
    "                  gap=5, order = order,saturation=0.9,\n",
    "                  ax=ax\n",
    "             #density_norm='count'\n",
    "             )\n",
    "    sb.stripplot(x='new_multiseq_id', y=gene, hue='infection_status', \n",
    "             data=gex_metadata_df,dodge=True, \n",
    "             marker='o', alpha=1, size=0.2,\n",
    "             palette = palette, \n",
    "             order = order,\n",
    "            edgecolor=['black'],\n",
    "             linewidth=0.1,\n",
    "            legend=False,\n",
    "                ax=ax,\n",
    "                 rasterized=True\n",
    "                )\n",
    "\n",
    "    ax.set_ylim(bottom=0)\n",
    "    ax.set_ylabel(gene.replace('GRCh38_', '')) #plt.ylabel(gene.replace('GRCh38_', ''))\n",
    "    ax.set_xlabel('')\n",
    "    ax.set_xticks([])\n",
    "    ax.legend_.remove() if ax.legend_ else None \n",
    "    \n",
    "\n",
    "# Set x-label only on the last subplot\n",
    "axes[-1].set_xlabel(\"Time Point - Treatment\")\n",
    "axes[-1].set_xticks(range(len(order)))\n",
    "axes[-1].set_xticklabels(order, rotation=90)\n",
    "\n",
    "# Common legend (optional): create outside of subplots\n",
    "handles, labels = axes[0].get_legend_handles_labels()\n",
    "fig.legend(handles, labels, title='Infection Status', loc='upper right', bbox_to_anchor=(1.1, 1.0))\n",
    "\n",
    "sb.despine()\n",
    "plt.tight_layout(rect=[0, 0, 0.95, 1])  # Adjust for legend\n",
    "plt.rcParams['font.family'] = 'sans-serif'\n",
    "plt.rcParams['font.sans-serif'] = 'Arial'\n",
    "plt.rcParams['font.size'] = 12.0\n",
    "plt.rcParams['legend.fontsize'] = 12.0\n",
    "\n",
    "#plt.savefig(f\"{fig_path}/cas9_subset_genes_combined_violin_plots.pdf\",dpi=300, bbox_inches='tight')"
   ]
  }
 ],
 "metadata": {
  "kernelspec": {
   "display_name": "de_scanpy_mast",
   "language": "python",
   "name": "de_scanpy_mast"
  },
  "language_info": {
   "codemirror_mode": {
    "name": "ipython",
    "version": 3
   },
   "file_extension": ".py",
   "mimetype": "text/x-python",
   "name": "python",
   "nbconvert_exporter": "python",
   "pygments_lexer": "ipython3",
   "version": "3.9.15"
  },
  "toc": {
   "base_numbering": 1,
   "nav_menu": {},
   "number_sections": true,
   "sideBar": true,
   "skip_h1_title": false,
   "title_cell": "Table of Contents",
   "title_sidebar": "Contents",
   "toc_cell": false,
   "toc_position": {},
   "toc_section_display": true,
   "toc_window_display": true
  }
 },
 "nbformat": 4,
 "nbformat_minor": 5
}
