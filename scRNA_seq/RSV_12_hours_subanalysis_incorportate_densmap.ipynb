{
 "cells": [
  {
   "cell_type": "code",
   "execution_count": null,
   "id": "095e1a4b-aaa8-4cbb-827b-445979241a2d",
   "metadata": {},
   "outputs": [],
   "source": [
    "import umap\n",
    "import numpy as np\n",
    "import pandas as pd\n",
    "import seaborn as sb\n",
    "import matplotlib.pyplot as plt"
   ]
  },
  {
   "cell_type": "code",
   "execution_count": null,
   "id": "7b02e212-e647-4bcc-a938-b524ac8a6667",
   "metadata": {},
   "outputs": [],
   "source": [
    "X_pca = pd.read_csv('human_virus_umap_20250603_X_pca.csv', index_col=0)"
   ]
  },
  {
   "cell_type": "code",
   "execution_count": null,
   "id": "6e76aab4-428d-4872-a15f-e8c7869fad31",
   "metadata": {},
   "outputs": [],
   "source": [
    "X_21pc = X_pca.iloc[:, :21].values #stay consistent with prior analyses\n",
    "X_21pc"
   ]
  },
  {
   "cell_type": "code",
   "execution_count": null,
   "id": "eb0e4e1b-871d-4d1f-a5fc-ab89d4d55903",
   "metadata": {},
   "outputs": [],
   "source": [
    "cell_ids = X_pca.index.values\n",
    "cell_ids"
   ]
  },
  {
   "cell_type": "code",
   "execution_count": null,
   "id": "98fa7c02-7553-4219-ae01-2954b297ab80",
   "metadata": {},
   "outputs": [],
   "source": [
    "X = X_21pc"
   ]
  },
  {
   "cell_type": "code",
   "execution_count": null,
   "id": "33319385-752c-4bc8-aa82-ec98890c8386",
   "metadata": {},
   "outputs": [],
   "source": [
    "initialization = 1"
   ]
  },
  {
   "cell_type": "code",
   "execution_count": null,
   "id": "bf5852dd-a731-4af3-9738-35c7301b7b02",
   "metadata": {},
   "outputs": [],
   "source": [
    "densmap = umap.UMAP(densmap=True, \n",
    "                    n_neighbors=15,\n",
    "                    min_dist=0.5,\n",
    "                    spread=1,\n",
    "                    dens_lambda=1.5,\n",
    "                    random_state=initialization, \n",
    "                    output_dens=True)\n",
    "embedding, local_density, global_density = densmap.fit_transform(X)"
   ]
  },
  {
   "cell_type": "code",
   "execution_count": null,
   "id": "726075e5-6493-4f0d-ad77-e89c75e8bbca",
   "metadata": {
    "scrolled": true
   },
   "outputs": [],
   "source": [
    "# 1. Plot UMAP Embedding colored by local density\n",
    "plt.figure(figsize=(10, 5))\n",
    "\n",
    "# Subplot 1: Local Density\n",
    "plt.subplot(1, 2, 1)\n",
    "sc = plt.scatter(embedding[:, 0], embedding[:, 1], c=local_density, cmap='viridis', s=5)\n",
    "plt.colorbar(sc, label='Local Density')\n",
    "plt.title('UMAP Embedding Colored by Local Density')\n",
    "plt.xlabel('UMAP 1')\n",
    "plt.ylabel('UMAP 2')\n",
    "\n",
    "# Subplot 2: Global Density\n",
    "plt.subplot(1, 2, 2)\n",
    "sc = plt.scatter(embedding[:, 0], embedding[:, 1], c=global_density, cmap='plasma', s=5)\n",
    "plt.colorbar(sc, label='Global Density')\n",
    "plt.title('UMAP Embedding Colored by Global Density')\n",
    "plt.xlabel('UMAP 1')\n",
    "plt.ylabel('UMAP 2')\n",
    "\n",
    "plt.tight_layout()\n",
    "plt.show()"
   ]
  },
  {
   "cell_type": "code",
   "execution_count": null,
   "id": "a07f800a-6a1f-4e5d-95f6-16e5f18fcf0b",
   "metadata": {},
   "outputs": [],
   "source": [
    "umap_df = pd.DataFrame(\n",
    "    embedding,\n",
    "    index=cell_ids,\n",
    "    columns=[\"UMAP1_densmap\", \"UMAP2_densmap\"]\n",
    ")"
   ]
  },
  {
   "cell_type": "code",
   "execution_count": null,
   "id": "e61c2e51-8b45-4630-90a9-e1bfc188b2be",
   "metadata": {},
   "outputs": [],
   "source": [
    "#save & plot side-by-side w/ scanpy umap\n",
    "#umap_df.to_csv(\"human_virus_umap_20250603_densmap_umap_v2.csv\")"
   ]
  },
  {
   "cell_type": "code",
   "execution_count": null,
   "id": "04fa38f5-aede-433e-9b88-fcf93193c2dd",
   "metadata": {},
   "outputs": [],
   "source": []
  }
 ],
 "metadata": {
  "kernelspec": {
   "display_name": "umap_learn_revisions",
   "language": "python",
   "name": "umap_learn_revisions"
  },
  "language_info": {
   "codemirror_mode": {
    "name": "ipython",
    "version": 3
   },
   "file_extension": ".py",
   "mimetype": "text/x-python",
   "name": "python",
   "nbconvert_exporter": "python",
   "pygments_lexer": "ipython3",
   "version": "3.13.3"
  },
  "toc": {
   "base_numbering": 1,
   "nav_menu": {},
   "number_sections": true,
   "sideBar": true,
   "skip_h1_title": false,
   "title_cell": "Table of Contents",
   "title_sidebar": "Contents",
   "toc_cell": false,
   "toc_position": {},
   "toc_section_display": true,
   "toc_window_display": false
  }
 },
 "nbformat": 4,
 "nbformat_minor": 5
}
